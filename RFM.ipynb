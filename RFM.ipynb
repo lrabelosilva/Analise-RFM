{
 "cells": [
  {
   "cell_type": "markdown",
   "id": "d1b0fa28",
   "metadata": {
    "papermill": {
     "duration": 0.015144,
     "end_time": "2022-01-31T10:54:39.151686",
     "exception": false,
     "start_time": "2022-01-31T10:54:39.136542",
     "status": "completed"
    },
    "tags": []
   },
   "source": [
    "# Conheça melhor seus clientes utilizando RFM\n",
    "\n",
    "## Aprenda como segmentar seus clientes com apenas três indicadores: recência, frequência e valor monetário.\n",
    "\n",
    "Nesse artigo vou mostrar como criar um modelo RFM para chamar de seu, e ensinar como implementar o modelo com poucas linhas de código em Python. \n",
    "\n",
    "## Por que você faria uma análise RFM?\n",
    "\n",
    "A segmentação RFM fará você entender melhor a sua base de clientes, por ser uma análise mais simples é uma ótima forma de começar com a análise de dados, e caso exista interesse da sua parte, pode ser aprofundada com técnicas e modelos mais avançados. \n",
    "\n",
    "Com o RFM você estará apto a responder perguntas de negócio como:\n",
    "\n",
    "* Quem são os melhores clientes?\n",
    "* Quais clientes estão deixando de comprar?\n",
    "* Quais são os clientes mais leais?\n",
    "* Quais clientes têm mais chances de comprar mais? \n",
    "* Quem são os clientes que não compram mais?\n",
    "* Quem são os clientes que não posso perder de jeito nenhum?\n",
    "* Quais clientes são mais suscetíveis a aceitar uma promoção?\n",
    "\n",
    "## Prazer, RFM\n",
    "RFM é um método estatístico simples utilizado para categorizar clientes baseados em seus hábitos de compra. Os hábitos são identificados através de três informações: recência (R), que para esse artigo vamos utilizar o número de dias desde a última compra do cliente, a frequência (F) em número vezes que o cliente fez uma compra e o valor monetário (M), que significa o valor entregue pelo cliente, para essa análise será a quantia total gasta pelo cliente durante o período analisado. Após estarmos com esses indicadores, vamos poder segmentar os clientes em grupos, que são:\n",
    "\n",
    "* Campeões: Compraram recentemente, além de comprar com frequência e gastam muito.\n",
    "* Clientes leais: Compradores recorrentes.\n",
    "* Lealdade potencial: São clientes novos que compram com frequência.\n",
    "* Novos Clientes: Compraram recentemente, mas não com frequência.\n",
    "* Promissores: Compradores recentes, mas que não gastaram muito\n",
    "* Em risco: Clientes que possuem uma frequência e valor monetário acima da média mas faz algum tempo que não compram, precisam ser trazidos de volta.\n",
    "* Não posso perdê-los: São clientes que compravam com frequência e gastavam bastante, mas por algum motivo, não compram há algum tempo.\n",
    "* Precisam de atenção: Estão na média da recência, frequência e valor monetário, talvez não comprem já a algum tempo.\n",
    "* Prestes a hibernar: Abaixo da média de recência e frequência. Se nada for feito, muito provavelmente serão perdidos.\n",
    "* Hibernando: Sua última compra já faz um tempo e foram poucas as vezes em que comprou, provavelmente será perdido em breve.\n",
    "* Perdido: Já não compram mais há muito tempo, além de não terem consumido muito ou frequentado outras vezes. \n",
    "\n",
    "\n",
    "\n",
    "\n"
   ]
  },
  {
   "cell_type": "code",
   "execution_count": 1,
   "id": "544df3e5",
   "metadata": {
    "execution": {
     "iopub.execute_input": "2022-01-31T10:54:39.195229Z",
     "iopub.status.busy": "2022-01-31T10:54:39.194626Z",
     "iopub.status.idle": "2022-01-31T10:54:41.425743Z",
     "shell.execute_reply": "2022-01-31T10:54:41.424801Z",
     "shell.execute_reply.started": "2022-01-31T10:53:00.305773Z"
    },
    "papermill": {
     "duration": 2.258276,
     "end_time": "2022-01-31T10:54:41.425947",
     "exception": false,
     "start_time": "2022-01-31T10:54:39.167671",
     "status": "completed"
    },
    "tags": []
   },
   "outputs": [
    {
     "name": "stdout",
     "output_type": "stream",
     "text": [
      "/kaggle/input/customer-personality-analysis/marketing_campaign.csv\n"
     ]
    }
   ],
   "source": [
    "#importing libraries\n",
    "import numpy as np # linear algebra\n",
    "import pandas as pd # data processing, CSV file I/O (e.g. pd.read_csv)\n",
    "\n",
    "import matplotlib.pyplot as plt\n",
    "%matplotlib inline\n",
    "import seaborn as sns\n",
    "import plotly.express as px\n",
    "\n",
    "import warnings\n",
    "warnings.filterwarnings('ignore')\n",
    "\n",
    "import os\n",
    "for dirname, _, filenames in os.walk('/kaggle/input'):\n",
    "    for filename in filenames:\n",
    "        print(os.path.join(dirname, filename))"
   ]
  },
  {
   "cell_type": "code",
   "execution_count": 2,
   "id": "d368435f",
   "metadata": {
    "execution": {
     "iopub.execute_input": "2022-01-31T10:54:41.458197Z",
     "iopub.status.busy": "2022-01-31T10:54:41.457518Z",
     "iopub.status.idle": "2022-01-31T10:54:41.514677Z",
     "shell.execute_reply": "2022-01-31T10:54:41.515300Z",
     "shell.execute_reply.started": "2022-01-31T10:53:00.325582Z"
    },
    "papermill": {
     "duration": 0.074842,
     "end_time": "2022-01-31T10:54:41.515495",
     "exception": false,
     "start_time": "2022-01-31T10:54:41.440653",
     "status": "completed"
    },
    "tags": []
   },
   "outputs": [
    {
     "data": {
      "text/html": [
       "<div>\n",
       "<style scoped>\n",
       "    .dataframe tbody tr th:only-of-type {\n",
       "        vertical-align: middle;\n",
       "    }\n",
       "\n",
       "    .dataframe tbody tr th {\n",
       "        vertical-align: top;\n",
       "    }\n",
       "\n",
       "    .dataframe thead th {\n",
       "        text-align: right;\n",
       "    }\n",
       "</style>\n",
       "<table border=\"1\" class=\"dataframe\">\n",
       "  <thead>\n",
       "    <tr style=\"text-align: right;\">\n",
       "      <th></th>\n",
       "      <th>ID</th>\n",
       "      <th>Year_Birth</th>\n",
       "      <th>Education</th>\n",
       "      <th>Marital_Status</th>\n",
       "      <th>Income</th>\n",
       "      <th>Kidhome</th>\n",
       "      <th>Teenhome</th>\n",
       "      <th>Dt_Customer</th>\n",
       "      <th>Recency</th>\n",
       "      <th>MntWines</th>\n",
       "      <th>...</th>\n",
       "      <th>NumWebVisitsMonth</th>\n",
       "      <th>AcceptedCmp3</th>\n",
       "      <th>AcceptedCmp4</th>\n",
       "      <th>AcceptedCmp5</th>\n",
       "      <th>AcceptedCmp1</th>\n",
       "      <th>AcceptedCmp2</th>\n",
       "      <th>Complain</th>\n",
       "      <th>Z_CostContact</th>\n",
       "      <th>Z_Revenue</th>\n",
       "      <th>Response</th>\n",
       "    </tr>\n",
       "  </thead>\n",
       "  <tbody>\n",
       "    <tr>\n",
       "      <th>0</th>\n",
       "      <td>5524</td>\n",
       "      <td>1957</td>\n",
       "      <td>Graduation</td>\n",
       "      <td>Single</td>\n",
       "      <td>58138.0</td>\n",
       "      <td>0</td>\n",
       "      <td>0</td>\n",
       "      <td>04-09-2012</td>\n",
       "      <td>58</td>\n",
       "      <td>635</td>\n",
       "      <td>...</td>\n",
       "      <td>7</td>\n",
       "      <td>0</td>\n",
       "      <td>0</td>\n",
       "      <td>0</td>\n",
       "      <td>0</td>\n",
       "      <td>0</td>\n",
       "      <td>0</td>\n",
       "      <td>3</td>\n",
       "      <td>11</td>\n",
       "      <td>1</td>\n",
       "    </tr>\n",
       "    <tr>\n",
       "      <th>1</th>\n",
       "      <td>2174</td>\n",
       "      <td>1954</td>\n",
       "      <td>Graduation</td>\n",
       "      <td>Single</td>\n",
       "      <td>46344.0</td>\n",
       "      <td>1</td>\n",
       "      <td>1</td>\n",
       "      <td>08-03-2014</td>\n",
       "      <td>38</td>\n",
       "      <td>11</td>\n",
       "      <td>...</td>\n",
       "      <td>5</td>\n",
       "      <td>0</td>\n",
       "      <td>0</td>\n",
       "      <td>0</td>\n",
       "      <td>0</td>\n",
       "      <td>0</td>\n",
       "      <td>0</td>\n",
       "      <td>3</td>\n",
       "      <td>11</td>\n",
       "      <td>0</td>\n",
       "    </tr>\n",
       "    <tr>\n",
       "      <th>2</th>\n",
       "      <td>4141</td>\n",
       "      <td>1965</td>\n",
       "      <td>Graduation</td>\n",
       "      <td>Together</td>\n",
       "      <td>71613.0</td>\n",
       "      <td>0</td>\n",
       "      <td>0</td>\n",
       "      <td>21-08-2013</td>\n",
       "      <td>26</td>\n",
       "      <td>426</td>\n",
       "      <td>...</td>\n",
       "      <td>4</td>\n",
       "      <td>0</td>\n",
       "      <td>0</td>\n",
       "      <td>0</td>\n",
       "      <td>0</td>\n",
       "      <td>0</td>\n",
       "      <td>0</td>\n",
       "      <td>3</td>\n",
       "      <td>11</td>\n",
       "      <td>0</td>\n",
       "    </tr>\n",
       "    <tr>\n",
       "      <th>3</th>\n",
       "      <td>6182</td>\n",
       "      <td>1984</td>\n",
       "      <td>Graduation</td>\n",
       "      <td>Together</td>\n",
       "      <td>26646.0</td>\n",
       "      <td>1</td>\n",
       "      <td>0</td>\n",
       "      <td>10-02-2014</td>\n",
       "      <td>26</td>\n",
       "      <td>11</td>\n",
       "      <td>...</td>\n",
       "      <td>6</td>\n",
       "      <td>0</td>\n",
       "      <td>0</td>\n",
       "      <td>0</td>\n",
       "      <td>0</td>\n",
       "      <td>0</td>\n",
       "      <td>0</td>\n",
       "      <td>3</td>\n",
       "      <td>11</td>\n",
       "      <td>0</td>\n",
       "    </tr>\n",
       "    <tr>\n",
       "      <th>4</th>\n",
       "      <td>5324</td>\n",
       "      <td>1981</td>\n",
       "      <td>PhD</td>\n",
       "      <td>Married</td>\n",
       "      <td>58293.0</td>\n",
       "      <td>1</td>\n",
       "      <td>0</td>\n",
       "      <td>19-01-2014</td>\n",
       "      <td>94</td>\n",
       "      <td>173</td>\n",
       "      <td>...</td>\n",
       "      <td>5</td>\n",
       "      <td>0</td>\n",
       "      <td>0</td>\n",
       "      <td>0</td>\n",
       "      <td>0</td>\n",
       "      <td>0</td>\n",
       "      <td>0</td>\n",
       "      <td>3</td>\n",
       "      <td>11</td>\n",
       "      <td>0</td>\n",
       "    </tr>\n",
       "  </tbody>\n",
       "</table>\n",
       "<p>5 rows × 29 columns</p>\n",
       "</div>"
      ],
      "text/plain": [
       "     ID  Year_Birth   Education Marital_Status   Income  Kidhome  Teenhome  \\\n",
       "0  5524        1957  Graduation         Single  58138.0        0         0   \n",
       "1  2174        1954  Graduation         Single  46344.0        1         1   \n",
       "2  4141        1965  Graduation       Together  71613.0        0         0   \n",
       "3  6182        1984  Graduation       Together  26646.0        1         0   \n",
       "4  5324        1981         PhD        Married  58293.0        1         0   \n",
       "\n",
       "  Dt_Customer  Recency  MntWines  ...  NumWebVisitsMonth  AcceptedCmp3  \\\n",
       "0  04-09-2012       58       635  ...                  7             0   \n",
       "1  08-03-2014       38        11  ...                  5             0   \n",
       "2  21-08-2013       26       426  ...                  4             0   \n",
       "3  10-02-2014       26        11  ...                  6             0   \n",
       "4  19-01-2014       94       173  ...                  5             0   \n",
       "\n",
       "   AcceptedCmp4  AcceptedCmp5  AcceptedCmp1  AcceptedCmp2  Complain  \\\n",
       "0             0             0             0             0         0   \n",
       "1             0             0             0             0         0   \n",
       "2             0             0             0             0         0   \n",
       "3             0             0             0             0         0   \n",
       "4             0             0             0             0         0   \n",
       "\n",
       "   Z_CostContact  Z_Revenue  Response  \n",
       "0              3         11         1  \n",
       "1              3         11         0  \n",
       "2              3         11         0  \n",
       "3              3         11         0  \n",
       "4              3         11         0  \n",
       "\n",
       "[5 rows x 29 columns]"
      ]
     },
     "execution_count": 2,
     "metadata": {},
     "output_type": "execute_result"
    }
   ],
   "source": [
    "df = pd.read_csv('../input/customer-personality-analysis/marketing_campaign.csv', sep='\\t')\n",
    "df.head()"
   ]
  },
  {
   "cell_type": "markdown",
   "id": "d72854c8",
   "metadata": {
    "papermill": {
     "duration": 0.015683,
     "end_time": "2022-01-31T10:54:41.548697",
     "exception": false,
     "start_time": "2022-01-31T10:54:41.533014",
     "status": "completed"
    },
    "tags": []
   },
   "source": [
    "## Conhecendo os dados e preparando o modelo\n",
    "\n",
    "Vamos utilizar uma base de dados encontrada no kaggle para Análise de Personalidade do Cliente, nesse link você encontrará a descrição de cada feature, e caso seja do seu interesse se aprofundar mais no tema de segmentação de clientes, recomendo que dê uma olhada nos notebooks publicados por outros usuários, lá existem outras abordagens mais avançadas utilizando o mesmo dataset. \n",
    "\n",
    "Após uma primeira investigação, as colunas que vamos utilizar para construir nosso modelo são:\n",
    "\n",
    "* ID: Código de identificação do cliente\n",
    "* Recency: Número de dia desde a última compra daquele cliente\n",
    "* NumWebPurchases: Número de compras feitas através do site da empresa\n",
    "* NumCatalogPurchases: Número de compras feitas usando o catálogo\n",
    "* NumStorePurchases: Número de compras feitas diretamente nas lojas\n",
    "* MntWines: Quantia gasta com vinho nos últimos dois anos\n",
    "* MntFruits: Quantia gasta com frutas nos últimos dois anos\n",
    "* MntMeatProducts: Quantia gasta com carnes nos últimos dois anos\n",
    "* MntFishProducts: Quantia gasta com peixes nos últimos dois anos\n",
    "* MntSweetProducts: Quantia gasta com doces nos últimos dois anos\n",
    "* MntGoldProds: Quantia gasta com produtos ouro nos últimos dois anos\n",
    "\n",
    "Até aqui, só temos a recência (R), vamos então, somar o número de compras feitas pelos usuários nas diferentes opções que a empresa oferece, para assim, encontrarmos a frequência (F) de compra de cada usuário. \n"
   ]
  },
  {
   "cell_type": "code",
   "execution_count": 3,
   "id": "0a30f837",
   "metadata": {
    "execution": {
     "iopub.execute_input": "2022-01-31T10:54:41.583436Z",
     "iopub.status.busy": "2022-01-31T10:54:41.582400Z",
     "iopub.status.idle": "2022-01-31T10:54:41.608922Z",
     "shell.execute_reply": "2022-01-31T10:54:41.609469Z",
     "shell.execute_reply.started": "2022-01-31T10:53:00.363209Z"
    },
    "papermill": {
     "duration": 0.045456,
     "end_time": "2022-01-31T10:54:41.609654",
     "exception": false,
     "start_time": "2022-01-31T10:54:41.564198",
     "status": "completed"
    },
    "tags": []
   },
   "outputs": [
    {
     "name": "stdout",
     "output_type": "stream",
     "text": [
      "<class 'pandas.core.frame.DataFrame'>\n",
      "RangeIndex: 2240 entries, 0 to 2239\n",
      "Data columns (total 29 columns):\n",
      " #   Column               Non-Null Count  Dtype  \n",
      "---  ------               --------------  -----  \n",
      " 0   ID                   2240 non-null   int64  \n",
      " 1   Year_Birth           2240 non-null   int64  \n",
      " 2   Education            2240 non-null   object \n",
      " 3   Marital_Status       2240 non-null   object \n",
      " 4   Income               2216 non-null   float64\n",
      " 5   Kidhome              2240 non-null   int64  \n",
      " 6   Teenhome             2240 non-null   int64  \n",
      " 7   Dt_Customer          2240 non-null   object \n",
      " 8   Recency              2240 non-null   int64  \n",
      " 9   MntWines             2240 non-null   int64  \n",
      " 10  MntFruits            2240 non-null   int64  \n",
      " 11  MntMeatProducts      2240 non-null   int64  \n",
      " 12  MntFishProducts      2240 non-null   int64  \n",
      " 13  MntSweetProducts     2240 non-null   int64  \n",
      " 14  MntGoldProds         2240 non-null   int64  \n",
      " 15  NumDealsPurchases    2240 non-null   int64  \n",
      " 16  NumWebPurchases      2240 non-null   int64  \n",
      " 17  NumCatalogPurchases  2240 non-null   int64  \n",
      " 18  NumStorePurchases    2240 non-null   int64  \n",
      " 19  NumWebVisitsMonth    2240 non-null   int64  \n",
      " 20  AcceptedCmp3         2240 non-null   int64  \n",
      " 21  AcceptedCmp4         2240 non-null   int64  \n",
      " 22  AcceptedCmp5         2240 non-null   int64  \n",
      " 23  AcceptedCmp1         2240 non-null   int64  \n",
      " 24  AcceptedCmp2         2240 non-null   int64  \n",
      " 25  Complain             2240 non-null   int64  \n",
      " 26  Z_CostContact        2240 non-null   int64  \n",
      " 27  Z_Revenue            2240 non-null   int64  \n",
      " 28  Response             2240 non-null   int64  \n",
      "dtypes: float64(1), int64(25), object(3)\n",
      "memory usage: 507.6+ KB\n"
     ]
    }
   ],
   "source": [
    "df.info()"
   ]
  },
  {
   "cell_type": "code",
   "execution_count": 4,
   "id": "e5789214",
   "metadata": {
    "execution": {
     "iopub.execute_input": "2022-01-31T10:54:41.643816Z",
     "iopub.status.busy": "2022-01-31T10:54:41.643047Z",
     "iopub.status.idle": "2022-01-31T10:54:41.656198Z",
     "shell.execute_reply": "2022-01-31T10:54:41.656794Z",
     "shell.execute_reply.started": "2022-01-31T10:53:00.379642Z"
    },
    "papermill": {
     "duration": 0.032011,
     "end_time": "2022-01-31T10:54:41.656975",
     "exception": false,
     "start_time": "2022-01-31T10:54:41.624964",
     "status": "completed"
    },
    "tags": []
   },
   "outputs": [
    {
     "data": {
      "text/html": [
       "<div>\n",
       "<style scoped>\n",
       "    .dataframe tbody tr th:only-of-type {\n",
       "        vertical-align: middle;\n",
       "    }\n",
       "\n",
       "    .dataframe tbody tr th {\n",
       "        vertical-align: top;\n",
       "    }\n",
       "\n",
       "    .dataframe thead th {\n",
       "        text-align: right;\n",
       "    }\n",
       "</style>\n",
       "<table border=\"1\" class=\"dataframe\">\n",
       "  <thead>\n",
       "    <tr style=\"text-align: right;\">\n",
       "      <th></th>\n",
       "      <th>ID</th>\n",
       "      <th>Recency</th>\n",
       "      <th>MntWines</th>\n",
       "      <th>MntFruits</th>\n",
       "      <th>MntMeatProducts</th>\n",
       "      <th>MntSweetProducts</th>\n",
       "      <th>MntFishProducts</th>\n",
       "      <th>MntGoldProds</th>\n",
       "      <th>NumWebPurchases</th>\n",
       "      <th>NumCatalogPurchases</th>\n",
       "      <th>NumStorePurchases</th>\n",
       "    </tr>\n",
       "  </thead>\n",
       "  <tbody>\n",
       "    <tr>\n",
       "      <th>0</th>\n",
       "      <td>5524</td>\n",
       "      <td>58</td>\n",
       "      <td>635</td>\n",
       "      <td>88</td>\n",
       "      <td>546</td>\n",
       "      <td>88</td>\n",
       "      <td>172</td>\n",
       "      <td>88</td>\n",
       "      <td>8</td>\n",
       "      <td>10</td>\n",
       "      <td>4</td>\n",
       "    </tr>\n",
       "    <tr>\n",
       "      <th>1</th>\n",
       "      <td>2174</td>\n",
       "      <td>38</td>\n",
       "      <td>11</td>\n",
       "      <td>1</td>\n",
       "      <td>6</td>\n",
       "      <td>1</td>\n",
       "      <td>2</td>\n",
       "      <td>6</td>\n",
       "      <td>1</td>\n",
       "      <td>1</td>\n",
       "      <td>2</td>\n",
       "    </tr>\n",
       "    <tr>\n",
       "      <th>2</th>\n",
       "      <td>4141</td>\n",
       "      <td>26</td>\n",
       "      <td>426</td>\n",
       "      <td>49</td>\n",
       "      <td>127</td>\n",
       "      <td>21</td>\n",
       "      <td>111</td>\n",
       "      <td>42</td>\n",
       "      <td>8</td>\n",
       "      <td>2</td>\n",
       "      <td>10</td>\n",
       "    </tr>\n",
       "    <tr>\n",
       "      <th>3</th>\n",
       "      <td>6182</td>\n",
       "      <td>26</td>\n",
       "      <td>11</td>\n",
       "      <td>4</td>\n",
       "      <td>20</td>\n",
       "      <td>3</td>\n",
       "      <td>10</td>\n",
       "      <td>5</td>\n",
       "      <td>2</td>\n",
       "      <td>0</td>\n",
       "      <td>4</td>\n",
       "    </tr>\n",
       "    <tr>\n",
       "      <th>4</th>\n",
       "      <td>5324</td>\n",
       "      <td>94</td>\n",
       "      <td>173</td>\n",
       "      <td>43</td>\n",
       "      <td>118</td>\n",
       "      <td>27</td>\n",
       "      <td>46</td>\n",
       "      <td>15</td>\n",
       "      <td>5</td>\n",
       "      <td>3</td>\n",
       "      <td>6</td>\n",
       "    </tr>\n",
       "  </tbody>\n",
       "</table>\n",
       "</div>"
      ],
      "text/plain": [
       "     ID  Recency  MntWines  MntFruits  MntMeatProducts  MntSweetProducts  \\\n",
       "0  5524       58       635         88              546                88   \n",
       "1  2174       38        11          1                6                 1   \n",
       "2  4141       26       426         49              127                21   \n",
       "3  6182       26        11          4               20                 3   \n",
       "4  5324       94       173         43              118                27   \n",
       "\n",
       "   MntFishProducts  MntGoldProds  NumWebPurchases  NumCatalogPurchases  \\\n",
       "0              172            88                8                   10   \n",
       "1                2             6                1                    1   \n",
       "2              111            42                8                    2   \n",
       "3               10             5                2                    0   \n",
       "4               46            15                5                    3   \n",
       "\n",
       "   NumStorePurchases  \n",
       "0                  4  \n",
       "1                  2  \n",
       "2                 10  \n",
       "3                  4  \n",
       "4                  6  "
      ]
     },
     "execution_count": 4,
     "metadata": {},
     "output_type": "execute_result"
    }
   ],
   "source": [
    "df=df[['ID','Recency','MntWines','MntFruits','MntMeatProducts',\n",
    "       'MntSweetProducts','MntFishProducts','MntGoldProds',\n",
    "       'NumWebPurchases','NumCatalogPurchases','NumStorePurchases']]\n",
    "df.head()"
   ]
  },
  {
   "cell_type": "markdown",
   "id": "781e39d0",
   "metadata": {
    "execution": {
     "iopub.execute_input": "2022-01-31T10:39:54.835562Z",
     "iopub.status.busy": "2022-01-31T10:39:54.835197Z",
     "iopub.status.idle": "2022-01-31T10:39:54.852465Z",
     "shell.execute_reply": "2022-01-31T10:39:54.851393Z",
     "shell.execute_reply.started": "2022-01-31T10:39:54.835521Z"
    },
    "papermill": {
     "duration": 0.014761,
     "end_time": "2022-01-31T10:54:41.687376",
     "exception": false,
     "start_time": "2022-01-31T10:54:41.672615",
     "status": "completed"
    },
    "tags": []
   },
   "source": [
    "Até aqui, só temos a recência (R), vamos então, somar o número de compras feitas pelos usuários nas diferentes opções que a empresa oferece, para assim, encontrarmos a frequência (F) de compra de cada usuário. "
   ]
  },
  {
   "cell_type": "code",
   "execution_count": 5,
   "id": "1057e8e0",
   "metadata": {
    "execution": {
     "iopub.execute_input": "2022-01-31T10:54:41.721657Z",
     "iopub.status.busy": "2022-01-31T10:54:41.720867Z",
     "iopub.status.idle": "2022-01-31T10:54:41.726547Z",
     "shell.execute_reply": "2022-01-31T10:54:41.727057Z",
     "shell.execute_reply.started": "2022-01-31T10:53:00.398086Z"
    },
    "papermill": {
     "duration": 0.024915,
     "end_time": "2022-01-31T10:54:41.727257",
     "exception": false,
     "start_time": "2022-01-31T10:54:41.702342",
     "status": "completed"
    },
    "tags": []
   },
   "outputs": [],
   "source": [
    "#somando o número de compras em diferentes situações para encontrar a Frequência\n",
    "df['Frequency'] = (df['NumWebPurchases'] + df['NumCatalogPurchases'] + \n",
    "                           df['NumStorePurchases'])"
   ]
  },
  {
   "cell_type": "markdown",
   "id": "53e5e354",
   "metadata": {
    "papermill": {
     "duration": 0.014592,
     "end_time": "2022-01-31T10:54:41.759403",
     "exception": false,
     "start_time": "2022-01-31T10:54:41.744811",
     "status": "completed"
    },
    "tags": []
   },
   "source": [
    "Para o valor monetário (M), vamos somar o valor gasto nas diferentes categorias de produtos."
   ]
  },
  {
   "cell_type": "code",
   "execution_count": 6,
   "id": "8b78a36f",
   "metadata": {
    "execution": {
     "iopub.execute_input": "2022-01-31T10:54:41.794510Z",
     "iopub.status.busy": "2022-01-31T10:54:41.793865Z",
     "iopub.status.idle": "2022-01-31T10:54:41.797922Z",
     "shell.execute_reply": "2022-01-31T10:54:41.798398Z",
     "shell.execute_reply.started": "2022-01-31T10:53:00.411776Z"
    },
    "papermill": {
     "duration": 0.024443,
     "end_time": "2022-01-31T10:54:41.798566",
     "exception": false,
     "start_time": "2022-01-31T10:54:41.774123",
     "status": "completed"
    },
    "tags": []
   },
   "outputs": [],
   "source": [
    "#somando todos os gastos em uma só coluna para encontrar o valor monetário\n",
    "df['MonetaryValue'] = (df['MntWines'] + df['MntFruits'] + df['MntMeatProducts'] \n",
    "                       + df['MntFishProducts'] + df['MntSweetProducts'] \n",
    "                       + df['MntGoldProds'])"
   ]
  },
  {
   "cell_type": "code",
   "execution_count": 7,
   "id": "c4c8008c",
   "metadata": {
    "execution": {
     "iopub.execute_input": "2022-01-31T10:54:41.831749Z",
     "iopub.status.busy": "2022-01-31T10:54:41.831122Z",
     "iopub.status.idle": "2022-01-31T10:54:41.844544Z",
     "shell.execute_reply": "2022-01-31T10:54:41.845030Z",
     "shell.execute_reply.started": "2022-01-31T10:53:00.422128Z"
    },
    "papermill": {
     "duration": 0.031652,
     "end_time": "2022-01-31T10:54:41.845239",
     "exception": false,
     "start_time": "2022-01-31T10:54:41.813587",
     "status": "completed"
    },
    "tags": []
   },
   "outputs": [
    {
     "data": {
      "text/html": [
       "<div>\n",
       "<style scoped>\n",
       "    .dataframe tbody tr th:only-of-type {\n",
       "        vertical-align: middle;\n",
       "    }\n",
       "\n",
       "    .dataframe tbody tr th {\n",
       "        vertical-align: top;\n",
       "    }\n",
       "\n",
       "    .dataframe thead th {\n",
       "        text-align: right;\n",
       "    }\n",
       "</style>\n",
       "<table border=\"1\" class=\"dataframe\">\n",
       "  <thead>\n",
       "    <tr style=\"text-align: right;\">\n",
       "      <th></th>\n",
       "      <th>ID</th>\n",
       "      <th>Recency</th>\n",
       "      <th>Frequency</th>\n",
       "      <th>MonetaryValue</th>\n",
       "    </tr>\n",
       "  </thead>\n",
       "  <tbody>\n",
       "    <tr>\n",
       "      <th>0</th>\n",
       "      <td>5524</td>\n",
       "      <td>58</td>\n",
       "      <td>22</td>\n",
       "      <td>1617</td>\n",
       "    </tr>\n",
       "    <tr>\n",
       "      <th>1</th>\n",
       "      <td>2174</td>\n",
       "      <td>38</td>\n",
       "      <td>4</td>\n",
       "      <td>27</td>\n",
       "    </tr>\n",
       "    <tr>\n",
       "      <th>2</th>\n",
       "      <td>4141</td>\n",
       "      <td>26</td>\n",
       "      <td>20</td>\n",
       "      <td>776</td>\n",
       "    </tr>\n",
       "    <tr>\n",
       "      <th>3</th>\n",
       "      <td>6182</td>\n",
       "      <td>26</td>\n",
       "      <td>6</td>\n",
       "      <td>53</td>\n",
       "    </tr>\n",
       "    <tr>\n",
       "      <th>4</th>\n",
       "      <td>5324</td>\n",
       "      <td>94</td>\n",
       "      <td>14</td>\n",
       "      <td>422</td>\n",
       "    </tr>\n",
       "    <tr>\n",
       "      <th>...</th>\n",
       "      <td>...</td>\n",
       "      <td>...</td>\n",
       "      <td>...</td>\n",
       "      <td>...</td>\n",
       "    </tr>\n",
       "    <tr>\n",
       "      <th>2235</th>\n",
       "      <td>10870</td>\n",
       "      <td>46</td>\n",
       "      <td>16</td>\n",
       "      <td>1341</td>\n",
       "    </tr>\n",
       "    <tr>\n",
       "      <th>2236</th>\n",
       "      <td>4001</td>\n",
       "      <td>56</td>\n",
       "      <td>15</td>\n",
       "      <td>444</td>\n",
       "    </tr>\n",
       "    <tr>\n",
       "      <th>2237</th>\n",
       "      <td>7270</td>\n",
       "      <td>91</td>\n",
       "      <td>18</td>\n",
       "      <td>1241</td>\n",
       "    </tr>\n",
       "    <tr>\n",
       "      <th>2238</th>\n",
       "      <td>8235</td>\n",
       "      <td>8</td>\n",
       "      <td>21</td>\n",
       "      <td>843</td>\n",
       "    </tr>\n",
       "    <tr>\n",
       "      <th>2239</th>\n",
       "      <td>9405</td>\n",
       "      <td>40</td>\n",
       "      <td>8</td>\n",
       "      <td>172</td>\n",
       "    </tr>\n",
       "  </tbody>\n",
       "</table>\n",
       "<p>2240 rows × 4 columns</p>\n",
       "</div>"
      ],
      "text/plain": [
       "         ID  Recency  Frequency  MonetaryValue\n",
       "0      5524       58         22           1617\n",
       "1      2174       38          4             27\n",
       "2      4141       26         20            776\n",
       "3      6182       26          6             53\n",
       "4      5324       94         14            422\n",
       "...     ...      ...        ...            ...\n",
       "2235  10870       46         16           1341\n",
       "2236   4001       56         15            444\n",
       "2237   7270       91         18           1241\n",
       "2238   8235        8         21            843\n",
       "2239   9405       40          8            172\n",
       "\n",
       "[2240 rows x 4 columns]"
      ]
     },
     "execution_count": 7,
     "metadata": {},
     "output_type": "execute_result"
    }
   ],
   "source": [
    "#Vamos criar um novo dataframe apenas com as colunas que vamos utilizar no modelo.\n",
    "RFM = df[['ID', 'Recency', 'Frequency', 'MonetaryValue']]\n",
    "RFM"
   ]
  },
  {
   "cell_type": "markdown",
   "id": "38b4cf18",
   "metadata": {
    "papermill": {
     "duration": 0.015986,
     "end_time": "2022-01-31T10:54:41.877999",
     "exception": false,
     "start_time": "2022-01-31T10:54:41.862013",
     "status": "completed"
    },
    "tags": []
   },
   "source": [
    "Com a Recência, Frequência e Valor Monetário prontos, vamos fazer uma pequena inspeção e observar como nossos dados estão distribuídos."
   ]
  },
  {
   "cell_type": "code",
   "execution_count": 8,
   "id": "32c213ea",
   "metadata": {
    "execution": {
     "iopub.execute_input": "2022-01-31T10:54:41.914992Z",
     "iopub.status.busy": "2022-01-31T10:54:41.913319Z",
     "iopub.status.idle": "2022-01-31T10:54:43.178178Z",
     "shell.execute_reply": "2022-01-31T10:54:43.177567Z",
     "shell.execute_reply.started": "2022-01-31T10:53:00.440617Z"
    },
    "papermill": {
     "duration": 1.284419,
     "end_time": "2022-01-31T10:54:43.178388",
     "exception": false,
     "start_time": "2022-01-31T10:54:41.893969",
     "status": "completed"
    },
    "tags": []
   },
   "outputs": [
    {
     "data": {
      "text/html": [
       "        <script type=\"text/javascript\">\n",
       "        window.PlotlyConfig = {MathJaxConfig: 'local'};\n",
       "        if (window.MathJax) {MathJax.Hub.Config({SVG: {font: \"STIX-Web\"}});}\n",
       "        if (typeof require !== 'undefined') {\n",
       "        require.undef(\"plotly\");\n",
       "        requirejs.config({\n",
       "            paths: {\n",
       "                'plotly': ['https://cdn.plot.ly/plotly-2.8.3.min']\n",
       "            }\n",
       "        });\n",
       "        require(['plotly'], function(Plotly) {\n",
       "            window._Plotly = Plotly;\n",
       "        });\n",
       "        }\n",
       "        </script>\n",
       "        "
      ]
     },
     "metadata": {},
     "output_type": "display_data"
    },
    {
     "data": {
      "text/html": [
       "<div>                            <div id=\"33f3d9d9-fcda-4598-bd96-487328d13b4c\" class=\"plotly-graph-div\" style=\"height:525px; width:100%;\"></div>            <script type=\"text/javascript\">                require([\"plotly\"], function(Plotly) {                    window.PLOTLYENV=window.PLOTLYENV || {};                                    if (document.getElementById(\"33f3d9d9-fcda-4598-bd96-487328d13b4c\")) {                    Plotly.newPlot(                        \"33f3d9d9-fcda-4598-bd96-487328d13b4c\",                        [{\"alignmentgroup\":\"True\",\"bingroup\":\"x\",\"hovertemplate\":\"Recency=%{x}<br>count=%{y}<extra></extra>\",\"legendgroup\":\"\",\"marker\":{\"color\":\"#636efa\",\"pattern\":{\"shape\":\"\"}},\"name\":\"\",\"offsetgroup\":\"\",\"orientation\":\"v\",\"showlegend\":false,\"x\":[58,38,26,26,94,16,34,32,19,68,11,59,82,53,38,23,51,20,91,86,41,42,63,0,69,89,4,19,26,96,34,56,31,8,4,55,37,76,99,53,3,88,4,80,19,72,24,92,96,39,29,2,54,54,57,55,30,31,57,63,12,18,26,8,29,75,0,19,4,90,1,25,29,88,58,68,34,40,12,9,87,5,87,56,18,95,48,3,70,79,4,45,87,69,84,30,72,37,44,32,0,43,59,68,35,94,15,56,17,18,46,40,27,95,19,27,25,74,85,37,65,13,63,83,69,87,37,51,23,72,10,42,10,96,51,21,31,61,37,74,46,4,73,47,13,36,47,49,94,65,59,96,28,12,57,10,4,49,3,64,0,20,91,9,98,83,27,63,46,84,58,78,4,17,77,56,79,90,96,44,81,77,21,16,80,45,63,34,14,13,52,98,99,93,38,24,80,82,20,81,50,60,63,54,72,5,88,50,99,17,11,18,70,21,66,79,2,81,24,48,93,56,3,44,38,46,84,27,72,66,30,2,65,37,89,49,46,32,54,23,98,97,75,8,37,31,40,74,90,57,59,52,5,92,77,35,48,97,95,24,60,46,85,31,9,30,47,70,13,11,31,15,2,55,38,86,56,29,30,64,46,84,20,74,18,75,17,88,19,62,11,74,32,76,6,62,20,43,45,34,53,44,89,43,68,44,64,85,93,12,86,28,69,42,13,86,59,30,33,67,23,81,6,41,78,49,39,3,37,22,79,46,82,10,51,38,10,14,18,36,95,11,65,71,13,58,65,0,33,90,95,93,38,18,57,45,61,6,65,52,87,38,53,31,67,65,64,82,27,63,66,69,52,45,2,86,23,13,14,92,38,74,14,94,33,32,11,78,56,57,7,0,66,86,80,56,18,51,71,71,80,2,83,29,11,55,19,1,19,28,76,50,1,90,83,73,24,11,33,4,14,30,75,26,77,8,42,28,52,1,1,42,76,27,28,49,12,14,89,96,56,72,14,13,99,72,92,87,7,91,71,24,17,87,21,90,44,71,52,78,2,60,25,47,46,83,17,13,86,92,47,18,81,91,58,40,67,19,93,41,60,54,26,30,93,35,4,92,24,96,11,99,72,77,85,88,22,83,63,9,92,2,6,66,49,29,77,77,71,49,97,6,93,78,62,47,9,77,24,19,67,95,48,73,35,76,20,72,20,69,80,65,52,65,57,70,0,19,50,67,46,37,38,9,56,98,68,72,47,33,87,0,73,74,4,50,57,30,27,61,4,75,12,13,9,48,80,60,43,19,26,58,42,27,56,27,10,48,39,85,64,69,54,57,64,10,65,74,4,94,41,25,94,9,47,12,80,20,39,57,27,83,79,69,77,15,99,61,23,84,74,90,41,28,73,88,94,31,31,6,23,92,52,50,54,93,56,28,94,76,43,46,13,27,12,3,72,6,53,58,78,57,37,20,73,56,36,9,42,28,23,38,63,71,9,81,87,92,36,86,83,74,87,29,88,77,25,34,43,76,81,87,33,38,63,26,17,75,13,19,51,81,32,84,87,99,96,21,40,3,98,73,90,29,3,94,65,33,46,29,99,26,30,27,24,93,34,88,96,10,26,49,11,44,75,64,19,45,77,9,1,90,43,79,19,99,62,41,60,17,24,60,57,74,22,46,69,29,37,26,8,26,79,71,83,57,37,30,34,0,89,92,87,20,56,28,55,25,0,86,8,33,13,12,92,90,8,6,91,52,3,57,9,22,76,86,64,90,79,28,86,42,39,8,40,5,96,28,22,30,45,58,49,37,70,33,98,17,54,39,81,71,62,8,76,66,83,28,87,43,0,1,1,72,72,12,89,67,54,34,15,43,0,74,61,51,97,75,83,23,65,94,42,10,94,50,46,98,42,30,11,61,12,76,2,43,27,60,79,96,17,0,38,43,1,25,2,66,49,5,71,35,94,80,61,29,0,80,54,71,27,61,55,35,34,95,64,30,12,96,16,16,78,83,96,67,87,34,46,7,73,54,93,52,53,81,8,97,50,38,61,46,73,19,10,94,10,37,94,23,75,40,24,11,29,51,86,9,30,73,25,67,67,58,82,98,93,53,66,6,42,78,29,82,92,78,54,45,59,8,51,51,76,62,86,60,56,83,92,31,80,39,20,53,84,50,96,94,25,48,65,69,12,84,47,87,35,47,48,46,27,37,8,29,85,2,66,60,54,70,55,20,78,63,17,43,13,46,65,1,6,32,34,70,49,65,25,84,7,34,38,1,25,25,50,46,96,57,47,52,30,63,51,14,20,56,41,72,1,27,77,87,81,51,79,11,54,93,0,54,21,58,3,99,70,65,44,6,9,95,70,92,62,85,2,0,91,3,68,98,41,16,82,1,64,68,98,32,87,84,3,34,23,37,22,19,7,52,91,93,78,23,83,92,4,32,27,10,9,65,68,16,12,95,16,46,3,80,77,0,62,91,24,2,22,56,54,71,38,62,78,18,95,66,28,78,13,27,17,71,79,1,78,23,75,70,10,24,47,98,4,15,67,32,40,54,78,94,51,42,67,87,29,89,74,97,63,88,34,81,65,51,76,76,84,56,31,0,91,40,59,96,61,14,16,98,11,52,19,61,73,0,74,55,48,53,13,34,54,69,81,99,3,61,65,93,24,8,72,29,33,68,55,76,17,94,86,25,22,15,35,81,55,94,50,64,91,11,72,6,0,66,42,60,64,87,96,1,54,53,96,58,12,78,64,26,8,49,56,55,25,50,84,30,81,74,76,36,64,62,53,86,15,67,47,47,81,98,56,48,18,74,68,36,90,65,63,82,63,55,64,51,97,92,51,72,39,49,21,91,37,98,85,40,2,78,41,94,10,73,22,30,21,51,97,56,4,77,95,36,13,90,49,18,89,43,82,84,80,68,12,75,10,91,21,28,97,49,14,5,37,62,83,48,94,61,70,43,23,37,50,78,74,14,77,39,89,62,59,68,13,37,36,28,2,17,86,54,2,3,84,8,4,57,24,51,29,13,23,36,88,2,3,15,58,11,27,32,12,88,91,12,21,23,10,35,69,68,85,34,55,10,30,36,14,79,52,97,24,0,96,89,94,98,72,1,26,5,22,39,56,74,87,49,24,9,17,10,35,56,7,51,17,30,21,2,85,65,64,11,92,54,4,53,39,49,70,40,40,43,17,40,84,25,62,83,47,45,34,3,1,18,45,81,77,23,48,61,60,75,64,54,84,75,16,79,92,16,96,30,60,11,75,36,71,88,93,93,54,41,46,28,40,82,38,3,87,49,16,65,9,24,25,43,10,29,45,57,20,29,82,68,65,99,9,20,78,26,68,79,25,83,32,49,50,84,96,56,85,63,17,11,62,48,86,73,36,34,16,48,61,54,56,74,35,65,48,88,19,21,27,86,92,1,14,74,84,4,50,2,73,21,82,14,56,20,54,77,5,65,33,65,41,86,92,97,91,0,59,4,5,48,99,81,95,43,5,50,76,46,68,33,50,85,63,89,81,77,50,10,30,66,16,12,30,8,93,14,53,26,23,92,29,41,56,19,4,89,71,81,31,53,78,80,18,37,52,39,11,33,22,83,43,74,54,3,96,68,2,40,64,26,69,57,78,71,59,28,61,22,95,38,19,92,24,21,35,9,23,92,55,14,78,64,49,8,35,11,8,53,36,64,43,40,52,11,21,23,17,6,56,71,51,94,27,1,56,71,18,48,86,48,2,13,57,77,0,57,24,55,62,89,77,45,46,80,60,71,43,97,49,66,20,54,61,18,45,26,0,28,49,84,38,53,88,99,12,35,5,77,45,71,40,82,70,87,95,72,5,86,80,62,49,85,7,6,25,55,81,98,31,30,98,92,41,68,78,46,71,6,82,71,32,28,20,10,7,67,48,61,36,77,90,35,38,46,33,70,51,18,97,32,9,6,80,74,49,21,95,56,48,26,3,39,33,42,80,9,52,78,68,45,47,34,81,72,23,29,80,30,15,86,68,54,44,7,87,59,16,1,64,72,98,91,8,20,6,54,72,46,11,21,89,82,69,55,13,80,97,27,99,87,85,30,82,21,92,95,2,74,49,71,72,68,4,80,15,70,91,10,99,25,34,57,84,51,97,13,92,30,30,11,72,39,0,15,12,56,39,55,60,73,90,86,37,7,29,19,14,72,56,85,62,1,28,70,84,89,73,42,16,16,56,65,10,13,78,51,27,30,71,97,83,3,71,3,15,52,8,89,66,22,56,74,48,67,24,67,38,86,90,87,62,23,99,29,52,90,9,71,13,16,94,77,20,51,81,71,36,95,32,32,85,93,24,44,15,82,27,72,7,57,84,53,48,2,65,45,42,29,83,93,40,47,50,40,3,62,25,48,56,68,64,67,94,82,3,24,54,20,96,19,60,2,13,37,59,55,60,48,38,8,19,32,27,58,59,29,60,41,27,28,8,18,76,0,32,2,16,56,97,15,35,3,49,4,45,37,39,38,8,89,47,75,86,4,73,46,38,73,66,36,29,29,6,97,61,68,73,90,81,1,79,92,31,46,14,89,31,75,42,53,53,23,57,49,6,29,5,98,80,4,70,32,82,27,94,23,97,25,92,98,19,80,80,79,50,60,44,0,28,35,49,46,97,51,80,10,29,52,74,82,54,93,63,92,40,70,96,81,63,85,51,23,95,11,42,77,82,83,40,95,32,48,75,24,61,6,16,39,2,49,31,58,5,90,47,25,60,67,40,63,1,89,40,5,3,1,24,89,48,31,68,46,92,80,16,50,93,51,24,79,26,86,68,98,34,60,3,65,83,64,85,69,48,21,30,39,76,11,26,34,72,13,58,12,23,33,30,15,25,4,80,30,6,16,57,9,59,78,90,74,10,63,13,98,4,94,91,66,14,77,41,21,25,2,51,3,32,84,49,69,96,23,18,8,21,60,48,36,36,63,2,38,61,52,25,63,10,65,71,0,3,88,15,80,17,76,52,28,31,42,24,42,12,88,67,54,40,73,81,12,7,33,24,55,87,39,53,9,82,71,50,23,81,46,56,91,8,40],\"xaxis\":\"x\",\"yaxis\":\"y\",\"type\":\"histogram\"}],                        {\"template\":{\"data\":{\"bar\":[{\"error_x\":{\"color\":\"#2a3f5f\"},\"error_y\":{\"color\":\"#2a3f5f\"},\"marker\":{\"line\":{\"color\":\"#E5ECF6\",\"width\":0.5},\"pattern\":{\"fillmode\":\"overlay\",\"size\":10,\"solidity\":0.2}},\"type\":\"bar\"}],\"barpolar\":[{\"marker\":{\"line\":{\"color\":\"#E5ECF6\",\"width\":0.5},\"pattern\":{\"fillmode\":\"overlay\",\"size\":10,\"solidity\":0.2}},\"type\":\"barpolar\"}],\"carpet\":[{\"aaxis\":{\"endlinecolor\":\"#2a3f5f\",\"gridcolor\":\"white\",\"linecolor\":\"white\",\"minorgridcolor\":\"white\",\"startlinecolor\":\"#2a3f5f\"},\"baxis\":{\"endlinecolor\":\"#2a3f5f\",\"gridcolor\":\"white\",\"linecolor\":\"white\",\"minorgridcolor\":\"white\",\"startlinecolor\":\"#2a3f5f\"},\"type\":\"carpet\"}],\"choropleth\":[{\"colorbar\":{\"outlinewidth\":0,\"ticks\":\"\"},\"type\":\"choropleth\"}],\"contour\":[{\"colorbar\":{\"outlinewidth\":0,\"ticks\":\"\"},\"colorscale\":[[0.0,\"#0d0887\"],[0.1111111111111111,\"#46039f\"],[0.2222222222222222,\"#7201a8\"],[0.3333333333333333,\"#9c179e\"],[0.4444444444444444,\"#bd3786\"],[0.5555555555555556,\"#d8576b\"],[0.6666666666666666,\"#ed7953\"],[0.7777777777777778,\"#fb9f3a\"],[0.8888888888888888,\"#fdca26\"],[1.0,\"#f0f921\"]],\"type\":\"contour\"}],\"contourcarpet\":[{\"colorbar\":{\"outlinewidth\":0,\"ticks\":\"\"},\"type\":\"contourcarpet\"}],\"heatmap\":[{\"colorbar\":{\"outlinewidth\":0,\"ticks\":\"\"},\"colorscale\":[[0.0,\"#0d0887\"],[0.1111111111111111,\"#46039f\"],[0.2222222222222222,\"#7201a8\"],[0.3333333333333333,\"#9c179e\"],[0.4444444444444444,\"#bd3786\"],[0.5555555555555556,\"#d8576b\"],[0.6666666666666666,\"#ed7953\"],[0.7777777777777778,\"#fb9f3a\"],[0.8888888888888888,\"#fdca26\"],[1.0,\"#f0f921\"]],\"type\":\"heatmap\"}],\"heatmapgl\":[{\"colorbar\":{\"outlinewidth\":0,\"ticks\":\"\"},\"colorscale\":[[0.0,\"#0d0887\"],[0.1111111111111111,\"#46039f\"],[0.2222222222222222,\"#7201a8\"],[0.3333333333333333,\"#9c179e\"],[0.4444444444444444,\"#bd3786\"],[0.5555555555555556,\"#d8576b\"],[0.6666666666666666,\"#ed7953\"],[0.7777777777777778,\"#fb9f3a\"],[0.8888888888888888,\"#fdca26\"],[1.0,\"#f0f921\"]],\"type\":\"heatmapgl\"}],\"histogram\":[{\"marker\":{\"pattern\":{\"fillmode\":\"overlay\",\"size\":10,\"solidity\":0.2}},\"type\":\"histogram\"}],\"histogram2d\":[{\"colorbar\":{\"outlinewidth\":0,\"ticks\":\"\"},\"colorscale\":[[0.0,\"#0d0887\"],[0.1111111111111111,\"#46039f\"],[0.2222222222222222,\"#7201a8\"],[0.3333333333333333,\"#9c179e\"],[0.4444444444444444,\"#bd3786\"],[0.5555555555555556,\"#d8576b\"],[0.6666666666666666,\"#ed7953\"],[0.7777777777777778,\"#fb9f3a\"],[0.8888888888888888,\"#fdca26\"],[1.0,\"#f0f921\"]],\"type\":\"histogram2d\"}],\"histogram2dcontour\":[{\"colorbar\":{\"outlinewidth\":0,\"ticks\":\"\"},\"colorscale\":[[0.0,\"#0d0887\"],[0.1111111111111111,\"#46039f\"],[0.2222222222222222,\"#7201a8\"],[0.3333333333333333,\"#9c179e\"],[0.4444444444444444,\"#bd3786\"],[0.5555555555555556,\"#d8576b\"],[0.6666666666666666,\"#ed7953\"],[0.7777777777777778,\"#fb9f3a\"],[0.8888888888888888,\"#fdca26\"],[1.0,\"#f0f921\"]],\"type\":\"histogram2dcontour\"}],\"mesh3d\":[{\"colorbar\":{\"outlinewidth\":0,\"ticks\":\"\"},\"type\":\"mesh3d\"}],\"parcoords\":[{\"line\":{\"colorbar\":{\"outlinewidth\":0,\"ticks\":\"\"}},\"type\":\"parcoords\"}],\"pie\":[{\"automargin\":true,\"type\":\"pie\"}],\"scatter\":[{\"marker\":{\"colorbar\":{\"outlinewidth\":0,\"ticks\":\"\"}},\"type\":\"scatter\"}],\"scatter3d\":[{\"line\":{\"colorbar\":{\"outlinewidth\":0,\"ticks\":\"\"}},\"marker\":{\"colorbar\":{\"outlinewidth\":0,\"ticks\":\"\"}},\"type\":\"scatter3d\"}],\"scattercarpet\":[{\"marker\":{\"colorbar\":{\"outlinewidth\":0,\"ticks\":\"\"}},\"type\":\"scattercarpet\"}],\"scattergeo\":[{\"marker\":{\"colorbar\":{\"outlinewidth\":0,\"ticks\":\"\"}},\"type\":\"scattergeo\"}],\"scattergl\":[{\"marker\":{\"colorbar\":{\"outlinewidth\":0,\"ticks\":\"\"}},\"type\":\"scattergl\"}],\"scattermapbox\":[{\"marker\":{\"colorbar\":{\"outlinewidth\":0,\"ticks\":\"\"}},\"type\":\"scattermapbox\"}],\"scatterpolar\":[{\"marker\":{\"colorbar\":{\"outlinewidth\":0,\"ticks\":\"\"}},\"type\":\"scatterpolar\"}],\"scatterpolargl\":[{\"marker\":{\"colorbar\":{\"outlinewidth\":0,\"ticks\":\"\"}},\"type\":\"scatterpolargl\"}],\"scatterternary\":[{\"marker\":{\"colorbar\":{\"outlinewidth\":0,\"ticks\":\"\"}},\"type\":\"scatterternary\"}],\"surface\":[{\"colorbar\":{\"outlinewidth\":0,\"ticks\":\"\"},\"colorscale\":[[0.0,\"#0d0887\"],[0.1111111111111111,\"#46039f\"],[0.2222222222222222,\"#7201a8\"],[0.3333333333333333,\"#9c179e\"],[0.4444444444444444,\"#bd3786\"],[0.5555555555555556,\"#d8576b\"],[0.6666666666666666,\"#ed7953\"],[0.7777777777777778,\"#fb9f3a\"],[0.8888888888888888,\"#fdca26\"],[1.0,\"#f0f921\"]],\"type\":\"surface\"}],\"table\":[{\"cells\":{\"fill\":{\"color\":\"#EBF0F8\"},\"line\":{\"color\":\"white\"}},\"header\":{\"fill\":{\"color\":\"#C8D4E3\"},\"line\":{\"color\":\"white\"}},\"type\":\"table\"}]},\"layout\":{\"annotationdefaults\":{\"arrowcolor\":\"#2a3f5f\",\"arrowhead\":0,\"arrowwidth\":1},\"autotypenumbers\":\"strict\",\"coloraxis\":{\"colorbar\":{\"outlinewidth\":0,\"ticks\":\"\"}},\"colorscale\":{\"diverging\":[[0,\"#8e0152\"],[0.1,\"#c51b7d\"],[0.2,\"#de77ae\"],[0.3,\"#f1b6da\"],[0.4,\"#fde0ef\"],[0.5,\"#f7f7f7\"],[0.6,\"#e6f5d0\"],[0.7,\"#b8e186\"],[0.8,\"#7fbc41\"],[0.9,\"#4d9221\"],[1,\"#276419\"]],\"sequential\":[[0.0,\"#0d0887\"],[0.1111111111111111,\"#46039f\"],[0.2222222222222222,\"#7201a8\"],[0.3333333333333333,\"#9c179e\"],[0.4444444444444444,\"#bd3786\"],[0.5555555555555556,\"#d8576b\"],[0.6666666666666666,\"#ed7953\"],[0.7777777777777778,\"#fb9f3a\"],[0.8888888888888888,\"#fdca26\"],[1.0,\"#f0f921\"]],\"sequentialminus\":[[0.0,\"#0d0887\"],[0.1111111111111111,\"#46039f\"],[0.2222222222222222,\"#7201a8\"],[0.3333333333333333,\"#9c179e\"],[0.4444444444444444,\"#bd3786\"],[0.5555555555555556,\"#d8576b\"],[0.6666666666666666,\"#ed7953\"],[0.7777777777777778,\"#fb9f3a\"],[0.8888888888888888,\"#fdca26\"],[1.0,\"#f0f921\"]]},\"colorway\":[\"#636efa\",\"#EF553B\",\"#00cc96\",\"#ab63fa\",\"#FFA15A\",\"#19d3f3\",\"#FF6692\",\"#B6E880\",\"#FF97FF\",\"#FECB52\"],\"font\":{\"color\":\"#2a3f5f\"},\"geo\":{\"bgcolor\":\"white\",\"lakecolor\":\"white\",\"landcolor\":\"#E5ECF6\",\"showlakes\":true,\"showland\":true,\"subunitcolor\":\"white\"},\"hoverlabel\":{\"align\":\"left\"},\"hovermode\":\"closest\",\"mapbox\":{\"style\":\"light\"},\"paper_bgcolor\":\"white\",\"plot_bgcolor\":\"#E5ECF6\",\"polar\":{\"angularaxis\":{\"gridcolor\":\"white\",\"linecolor\":\"white\",\"ticks\":\"\"},\"bgcolor\":\"#E5ECF6\",\"radialaxis\":{\"gridcolor\":\"white\",\"linecolor\":\"white\",\"ticks\":\"\"}},\"scene\":{\"xaxis\":{\"backgroundcolor\":\"#E5ECF6\",\"gridcolor\":\"white\",\"gridwidth\":2,\"linecolor\":\"white\",\"showbackground\":true,\"ticks\":\"\",\"zerolinecolor\":\"white\"},\"yaxis\":{\"backgroundcolor\":\"#E5ECF6\",\"gridcolor\":\"white\",\"gridwidth\":2,\"linecolor\":\"white\",\"showbackground\":true,\"ticks\":\"\",\"zerolinecolor\":\"white\"},\"zaxis\":{\"backgroundcolor\":\"#E5ECF6\",\"gridcolor\":\"white\",\"gridwidth\":2,\"linecolor\":\"white\",\"showbackground\":true,\"ticks\":\"\",\"zerolinecolor\":\"white\"}},\"shapedefaults\":{\"line\":{\"color\":\"#2a3f5f\"}},\"ternary\":{\"aaxis\":{\"gridcolor\":\"white\",\"linecolor\":\"white\",\"ticks\":\"\"},\"baxis\":{\"gridcolor\":\"white\",\"linecolor\":\"white\",\"ticks\":\"\"},\"bgcolor\":\"#E5ECF6\",\"caxis\":{\"gridcolor\":\"white\",\"linecolor\":\"white\",\"ticks\":\"\"}},\"title\":{\"x\":0.05},\"xaxis\":{\"automargin\":true,\"gridcolor\":\"white\",\"linecolor\":\"white\",\"ticks\":\"\",\"title\":{\"standoff\":15},\"zerolinecolor\":\"white\",\"zerolinewidth\":2},\"yaxis\":{\"automargin\":true,\"gridcolor\":\"white\",\"linecolor\":\"white\",\"ticks\":\"\",\"title\":{\"standoff\":15},\"zerolinecolor\":\"white\",\"zerolinewidth\":2}}},\"xaxis\":{\"anchor\":\"y\",\"domain\":[0.0,1.0],\"title\":{\"text\":\"Recency\"}},\"yaxis\":{\"anchor\":\"x\",\"domain\":[0.0,1.0],\"title\":{\"text\":\"count\"}},\"legend\":{\"tracegroupgap\":0},\"margin\":{\"t\":60},\"barmode\":\"relative\"},                        {\"responsive\": true}                    ).then(function(){\n",
       "                            \n",
       "var gd = document.getElementById('33f3d9d9-fcda-4598-bd96-487328d13b4c');\n",
       "var x = new MutationObserver(function (mutations, observer) {{\n",
       "        var display = window.getComputedStyle(gd).display;\n",
       "        if (!display || display === 'none') {{\n",
       "            console.log([gd, 'removed!']);\n",
       "            Plotly.purge(gd);\n",
       "            observer.disconnect();\n",
       "        }}\n",
       "}});\n",
       "\n",
       "// Listen for the removal of the full notebook cells\n",
       "var notebookContainer = gd.closest('#notebook-container');\n",
       "if (notebookContainer) {{\n",
       "    x.observe(notebookContainer, {childList: true});\n",
       "}}\n",
       "\n",
       "// Listen for the clearing of the current output cell\n",
       "var outputEl = gd.closest('.output');\n",
       "if (outputEl) {{\n",
       "    x.observe(outputEl, {childList: true});\n",
       "}}\n",
       "\n",
       "                        })                };                });            </script>        </div>"
      ]
     },
     "metadata": {},
     "output_type": "display_data"
    }
   ],
   "source": [
    "fig = px.histogram(RFM, x='Recency')\n",
    "fig.show()"
   ]
  },
  {
   "cell_type": "markdown",
   "id": "03d366af",
   "metadata": {
    "papermill": {
     "duration": 0.016269,
     "end_time": "2022-01-31T10:54:43.212744",
     "exception": false,
     "start_time": "2022-01-31T10:54:43.196475",
     "status": "completed"
    },
    "tags": []
   },
   "source": [
    "Podemos notar que a recência está bem distribuída entre os usuários, existe quase a mesma quantidade de usuários para cada amostragem."
   ]
  },
  {
   "cell_type": "code",
   "execution_count": 9,
   "id": "82fbe83f",
   "metadata": {
    "execution": {
     "iopub.execute_input": "2022-01-31T10:54:43.252909Z",
     "iopub.status.busy": "2022-01-31T10:54:43.252034Z",
     "iopub.status.idle": "2022-01-31T10:54:43.307299Z",
     "shell.execute_reply": "2022-01-31T10:54:43.306713Z",
     "shell.execute_reply.started": "2022-01-31T10:53:00.526539Z"
    },
    "papermill": {
     "duration": 0.078087,
     "end_time": "2022-01-31T10:54:43.307481",
     "exception": false,
     "start_time": "2022-01-31T10:54:43.229394",
     "status": "completed"
    },
    "tags": []
   },
   "outputs": [
    {
     "data": {
      "text/html": [
       "<div>                            <div id=\"d66fac7f-6097-431f-986c-9281c57b21be\" class=\"plotly-graph-div\" style=\"height:525px; width:100%;\"></div>            <script type=\"text/javascript\">                require([\"plotly\"], function(Plotly) {                    window.PLOTLYENV=window.PLOTLYENV || {};                                    if (document.getElementById(\"d66fac7f-6097-431f-986c-9281c57b21be\")) {                    Plotly.newPlot(                        \"d66fac7f-6097-431f-986c-9281c57b21be\",                        [{\"alignmentgroup\":\"True\",\"bingroup\":\"x\",\"hovertemplate\":\"Frequency=%{x}<br>count=%{y}<extra></extra>\",\"legendgroup\":\"\",\"marker\":{\"color\":\"#636efa\",\"pattern\":{\"shape\":\"\"}},\"name\":\"\",\"offsetgroup\":\"\",\"orientation\":\"v\",\"showlegend\":false,\"x\":[22,4,20,6,14,20,17,8,5,1,3,5,15,12,4,25,6,11,24,6,11,28,14,17,13,6,10,27,7,25,6,10,7,11,17,5,23,6,5,22,19,5,3,8,5,15,7,4,7,19,16,28,5,20,16,26,20,5,5,16,20,18,20,18,15,4,3,31,17,12,18,6,26,19,7,3,18,22,3,19,8,3,6,10,26,5,8,13,18,9,17,3,14,4,7,5,17,5,24,14,5,5,25,15,19,4,9,22,7,13,23,16,17,24,16,6,15,15,5,5,18,6,4,4,27,14,15,6,14,19,14,18,18,18,11,22,4,6,4,5,21,15,22,22,9,12,5,3,9,7,15,15,13,7,24,20,12,3,8,17,3,25,7,19,22,6,17,11,14,6,4,5,7,6,6,27,24,5,3,24,9,6,23,5,5,4,5,16,23,5,4,27,5,6,12,4,22,16,16,9,16,17,26,26,4,3,4,11,5,24,10,19,11,16,16,14,3,24,10,26,6,15,20,9,27,8,14,15,16,3,14,13,3,4,26,6,4,18,7,3,21,14,4,21,24,4,14,19,19,21,5,4,28,9,21,4,16,12,6,3,4,22,11,3,11,7,18,7,12,6,12,7,10,6,6,21,21,11,16,21,7,14,11,14,5,6,22,20,21,13,4,7,18,6,3,20,4,6,11,23,7,20,6,10,7,22,6,17,17,10,7,5,23,22,10,5,6,13,4,15,18,3,3,18,18,17,6,4,4,8,3,5,17,4,5,21,21,4,21,14,20,7,17,16,3,15,4,14,5,3,22,20,15,17,19,5,6,14,13,14,21,18,7,3,15,17,25,5,15,14,4,10,4,19,6,7,4,4,18,4,3,3,11,9,3,5,14,22,6,16,19,10,15,9,20,23,8,4,4,7,6,22,8,10,15,4,6,11,5,16,6,13,32,13,17,18,6,20,25,20,5,5,3,15,22,3,26,17,5,22,15,16,24,24,5,4,20,15,7,5,4,8,3,4,4,3,9,16,5,14,22,24,6,14,24,12,23,10,11,18,12,21,7,18,7,19,16,3,17,22,29,3,23,4,4,22,4,16,15,14,5,5,10,11,18,28,15,19,4,9,19,12,21,11,19,19,5,17,24,20,4,4,8,19,4,26,23,21,7,19,9,22,13,18,13,21,7,4,16,19,5,12,12,15,7,4,19,14,16,13,15,16,16,10,5,12,6,15,10,6,6,9,12,19,18,6,13,7,6,4,5,6,16,7,24,10,19,18,6,19,6,19,24,21,12,10,15,3,3,3,11,4,8,11,5,18,8,6,6,10,10,13,4,6,5,7,21,18,15,5,5,21,19,4,14,6,5,4,6,7,4,20,16,17,7,8,5,4,4,17,10,11,4,5,22,13,4,1,4,12,14,5,13,4,20,5,19,27,6,9,23,13,21,6,20,3,31,13,21,16,22,20,19,13,12,10,30,10,25,15,19,4,27,6,13,0,8,9,25,8,18,3,23,5,4,4,3,5,4,9,25,16,13,18,14,3,18,16,8,19,21,29,14,10,16,18,21,29,20,14,16,12,9,4,6,7,3,5,18,27,17,18,18,14,9,20,5,18,11,4,3,22,6,17,10,10,16,5,25,3,14,20,4,15,7,5,23,22,14,25,3,15,16,11,11,25,17,12,3,18,26,6,6,7,20,19,6,23,3,27,21,15,23,24,20,23,18,15,6,7,6,17,20,5,18,9,16,28,7,14,19,19,17,6,1,3,6,17,4,20,18,4,4,3,4,5,7,18,16,13,13,16,5,11,7,12,20,23,23,7,17,4,7,27,22,15,5,13,13,20,4,5,15,21,22,16,3,16,20,5,17,5,17,7,19,23,14,4,21,4,5,17,17,5,4,23,12,26,4,18,6,11,7,7,16,18,17,20,9,7,11,17,24,4,15,24,4,19,4,25,5,11,3,11,11,14,14,3,13,5,16,14,7,8,22,17,16,7,27,7,6,5,3,5,21,18,11,5,16,18,5,12,24,3,22,23,19,23,14,7,17,9,15,12,11,17,18,3,5,9,21,18,25,8,17,13,14,19,12,24,4,18,6,6,25,13,18,18,15,20,19,6,23,4,18,6,16,27,23,21,14,18,11,18,6,18,17,11,5,14,5,6,8,6,4,7,13,18,6,12,24,17,5,8,10,18,22,7,3,18,17,7,7,15,23,23,18,14,6,23,3,0,5,26,22,14,18,25,26,5,16,3,17,20,6,3,22,6,22,12,19,11,17,5,11,15,21,19,6,3,20,7,11,6,6,14,19,10,4,7,7,5,18,5,5,18,6,5,4,27,21,19,15,4,18,11,7,6,5,17,16,5,1,13,4,7,6,26,12,19,19,3,24,5,4,20,11,11,21,16,17,24,18,4,16,5,22,25,3,23,6,19,20,5,13,20,24,4,13,3,12,13,15,3,19,22,4,22,3,16,19,7,16,6,7,14,12,14,3,23,17,12,14,11,5,20,5,6,17,12,15,15,3,19,6,11,4,11,5,18,20,7,11,7,12,13,14,5,3,24,13,3,4,22,20,12,6,19,6,12,18,6,5,6,24,7,7,19,14,3,25,21,3,25,10,6,16,14,10,23,11,19,16,20,10,18,5,6,16,15,3,4,15,14,5,10,3,15,6,17,16,10,18,7,3,4,5,25,8,4,15,21,5,8,7,21,7,17,13,24,8,19,9,4,16,19,25,5,4,7,13,16,29,20,10,7,16,8,23,6,7,3,21,5,7,18,21,5,13,6,9,4,7,5,4,21,7,23,4,8,4,5,22,9,12,0,7,3,3,24,12,24,32,15,21,14,14,17,3,22,4,16,26,5,5,17,19,6,9,18,14,21,10,17,6,18,3,6,22,13,18,26,4,15,11,4,16,5,22,19,3,4,6,3,5,8,4,20,14,6,2,18,5,11,18,21,13,22,27,25,19,22,12,21,11,6,13,4,6,4,26,12,24,12,6,22,6,8,2,16,6,12,18,26,19,11,16,7,4,11,12,13,17,5,3,6,4,14,21,19,22,16,3,10,19,21,6,18,18,7,16,5,14,26,11,15,14,4,9,10,10,6,4,16,23,13,14,5,12,12,9,8,4,3,5,20,4,4,4,20,11,7,4,4,5,21,3,6,21,12,11,20,8,11,20,7,12,20,15,7,21,14,3,20,8,15,5,9,5,6,3,22,19,4,4,6,3,3,5,13,4,4,22,5,12,4,11,3,6,7,6,3,6,20,22,12,17,22,16,13,9,16,22,5,15,15,8,6,25,16,17,18,4,6,4,18,17,19,3,21,5,8,4,17,19,7,22,6,9,25,24,20,4,4,16,22,14,15,27,13,20,11,28,18,6,24,5,15,21,29,12,4,14,19,20,13,17,24,23,22,17,7,23,21,6,10,21,6,6,5,18,21,6,5,0,20,17,6,14,5,22,11,23,7,6,11,4,15,16,25,7,23,19,3,21,6,5,7,18,3,6,15,16,13,27,4,10,3,7,23,7,15,3,20,6,14,19,21,18,14,25,5,17,4,14,11,7,17,7,16,3,16,14,6,26,4,8,11,10,24,8,12,4,12,6,14,7,12,20,5,16,23,19,4,5,4,21,19,14,16,20,5,18,11,4,21,3,12,10,24,7,6,18,15,9,10,15,16,7,6,25,10,7,3,14,20,17,21,5,4,4,13,17,4,20,3,14,20,19,7,6,21,6,28,4,5,12,21,17,16,15,9,22,6,5,5,21,6,23,32,11,17,21,20,30,6,10,4,14,5,22,7,6,3,11,4,15,21,23,21,18,18,3,3,5,19,3,11,4,23,23,6,7,19,7,8,28,11,19,11,21,22,5,25,6,12,15,5,9,21,3,24,18,24,12,6,11,4,23,26,5,4,4,20,17,22,17,22,13,4,8,14,7,24,21,22,3,23,20,13,16,11,4,15,5,6,6,8,5,18,17,5,14,25,6,23,4,16,5,8,6,9,20,16,4,11,8,11,6,18,5,7,23,23,12,10,15,6,16,23,6,5,25,6,9,4,13,6,13,20,24,28,8,14,4,22,25,6,16,16,4,15,13,11,17,4,20,21,16,3,13,5,7,20,23,4,13,15,23,7,7,9,23,9,8,6,24,11,14,22,8,17,5,14,14,22,0,5,15,4,27,3,20,13,19,28,6,6,22,16,13,3,14,13,19,18,6,4,13,21,5,24,5,19,4,4,18,19,24,23,17,4,8,22,5,15,4,15,21,13,19,19,5,20,10,10,4,14,27,16,5,4,14,6,12,13,24,6,4,4,21,20,23,15,25,16,5,6,7,3,5,20,22,25,27,4,17,13,18,19,6,13,6,6,21,4,15,21,3,5,21,4,4,22,7,17,18,21,6,7,8,16,18,22,15,16,4,13,27,7,23,14,6,7,7,25,20,26,20,20,14,4,12,14,9,25,16,7,5,3,8,6,21,7,14,3,10,11,7,14,18,8,27,15,4,21,15,15,14,11,4,3,7,3,6,5,20,13,11,20,16,8,23,21,24,3,5,5,4,3,6,5,11,17,26,6,3,4,22,6,23,20,6,25,11,13,25,18,5,23,17,19,5,5,13,9,8,27,12,21,4,15,13,6,4,6,24,23,23,18,7,6,16,5,27,13,6,15,7,4,16,19,4,18,20,17,4,6,6,9,7,12,13,29,21,24,17,22,6,3,14,3,12,21,22,4,18,10,18,9,4,24,4,18,6,5,7,17,10,20,17,23,4,6,14,24,5,25,21,3,7,3,7,19,5,23,16,17,19,3,4,19,0,5,14,14,10,4,9,7,4,5,7,6,21,18,4,7,12,6,5,14,7,10,4,6,8,4,20,11,23,12,14,22,4,6,17,14,17,4,17,26,21,14,20,18,16,14,13,10,6,17,6,6,4,24,22,23,14,5,24,4,3,24,20,6,7,15,13,6,6,22,14,21,5,9,16,6,4,4,16,17,5,18,1,3,5,17,3,13,15,20,7,6,19,16,18,14,1,5,6,25,3,7,3,16,15,18,21,8],\"xaxis\":\"x\",\"yaxis\":\"y\",\"type\":\"histogram\"}],                        {\"template\":{\"data\":{\"bar\":[{\"error_x\":{\"color\":\"#2a3f5f\"},\"error_y\":{\"color\":\"#2a3f5f\"},\"marker\":{\"line\":{\"color\":\"#E5ECF6\",\"width\":0.5},\"pattern\":{\"fillmode\":\"overlay\",\"size\":10,\"solidity\":0.2}},\"type\":\"bar\"}],\"barpolar\":[{\"marker\":{\"line\":{\"color\":\"#E5ECF6\",\"width\":0.5},\"pattern\":{\"fillmode\":\"overlay\",\"size\":10,\"solidity\":0.2}},\"type\":\"barpolar\"}],\"carpet\":[{\"aaxis\":{\"endlinecolor\":\"#2a3f5f\",\"gridcolor\":\"white\",\"linecolor\":\"white\",\"minorgridcolor\":\"white\",\"startlinecolor\":\"#2a3f5f\"},\"baxis\":{\"endlinecolor\":\"#2a3f5f\",\"gridcolor\":\"white\",\"linecolor\":\"white\",\"minorgridcolor\":\"white\",\"startlinecolor\":\"#2a3f5f\"},\"type\":\"carpet\"}],\"choropleth\":[{\"colorbar\":{\"outlinewidth\":0,\"ticks\":\"\"},\"type\":\"choropleth\"}],\"contour\":[{\"colorbar\":{\"outlinewidth\":0,\"ticks\":\"\"},\"colorscale\":[[0.0,\"#0d0887\"],[0.1111111111111111,\"#46039f\"],[0.2222222222222222,\"#7201a8\"],[0.3333333333333333,\"#9c179e\"],[0.4444444444444444,\"#bd3786\"],[0.5555555555555556,\"#d8576b\"],[0.6666666666666666,\"#ed7953\"],[0.7777777777777778,\"#fb9f3a\"],[0.8888888888888888,\"#fdca26\"],[1.0,\"#f0f921\"]],\"type\":\"contour\"}],\"contourcarpet\":[{\"colorbar\":{\"outlinewidth\":0,\"ticks\":\"\"},\"type\":\"contourcarpet\"}],\"heatmap\":[{\"colorbar\":{\"outlinewidth\":0,\"ticks\":\"\"},\"colorscale\":[[0.0,\"#0d0887\"],[0.1111111111111111,\"#46039f\"],[0.2222222222222222,\"#7201a8\"],[0.3333333333333333,\"#9c179e\"],[0.4444444444444444,\"#bd3786\"],[0.5555555555555556,\"#d8576b\"],[0.6666666666666666,\"#ed7953\"],[0.7777777777777778,\"#fb9f3a\"],[0.8888888888888888,\"#fdca26\"],[1.0,\"#f0f921\"]],\"type\":\"heatmap\"}],\"heatmapgl\":[{\"colorbar\":{\"outlinewidth\":0,\"ticks\":\"\"},\"colorscale\":[[0.0,\"#0d0887\"],[0.1111111111111111,\"#46039f\"],[0.2222222222222222,\"#7201a8\"],[0.3333333333333333,\"#9c179e\"],[0.4444444444444444,\"#bd3786\"],[0.5555555555555556,\"#d8576b\"],[0.6666666666666666,\"#ed7953\"],[0.7777777777777778,\"#fb9f3a\"],[0.8888888888888888,\"#fdca26\"],[1.0,\"#f0f921\"]],\"type\":\"heatmapgl\"}],\"histogram\":[{\"marker\":{\"pattern\":{\"fillmode\":\"overlay\",\"size\":10,\"solidity\":0.2}},\"type\":\"histogram\"}],\"histogram2d\":[{\"colorbar\":{\"outlinewidth\":0,\"ticks\":\"\"},\"colorscale\":[[0.0,\"#0d0887\"],[0.1111111111111111,\"#46039f\"],[0.2222222222222222,\"#7201a8\"],[0.3333333333333333,\"#9c179e\"],[0.4444444444444444,\"#bd3786\"],[0.5555555555555556,\"#d8576b\"],[0.6666666666666666,\"#ed7953\"],[0.7777777777777778,\"#fb9f3a\"],[0.8888888888888888,\"#fdca26\"],[1.0,\"#f0f921\"]],\"type\":\"histogram2d\"}],\"histogram2dcontour\":[{\"colorbar\":{\"outlinewidth\":0,\"ticks\":\"\"},\"colorscale\":[[0.0,\"#0d0887\"],[0.1111111111111111,\"#46039f\"],[0.2222222222222222,\"#7201a8\"],[0.3333333333333333,\"#9c179e\"],[0.4444444444444444,\"#bd3786\"],[0.5555555555555556,\"#d8576b\"],[0.6666666666666666,\"#ed7953\"],[0.7777777777777778,\"#fb9f3a\"],[0.8888888888888888,\"#fdca26\"],[1.0,\"#f0f921\"]],\"type\":\"histogram2dcontour\"}],\"mesh3d\":[{\"colorbar\":{\"outlinewidth\":0,\"ticks\":\"\"},\"type\":\"mesh3d\"}],\"parcoords\":[{\"line\":{\"colorbar\":{\"outlinewidth\":0,\"ticks\":\"\"}},\"type\":\"parcoords\"}],\"pie\":[{\"automargin\":true,\"type\":\"pie\"}],\"scatter\":[{\"marker\":{\"colorbar\":{\"outlinewidth\":0,\"ticks\":\"\"}},\"type\":\"scatter\"}],\"scatter3d\":[{\"line\":{\"colorbar\":{\"outlinewidth\":0,\"ticks\":\"\"}},\"marker\":{\"colorbar\":{\"outlinewidth\":0,\"ticks\":\"\"}},\"type\":\"scatter3d\"}],\"scattercarpet\":[{\"marker\":{\"colorbar\":{\"outlinewidth\":0,\"ticks\":\"\"}},\"type\":\"scattercarpet\"}],\"scattergeo\":[{\"marker\":{\"colorbar\":{\"outlinewidth\":0,\"ticks\":\"\"}},\"type\":\"scattergeo\"}],\"scattergl\":[{\"marker\":{\"colorbar\":{\"outlinewidth\":0,\"ticks\":\"\"}},\"type\":\"scattergl\"}],\"scattermapbox\":[{\"marker\":{\"colorbar\":{\"outlinewidth\":0,\"ticks\":\"\"}},\"type\":\"scattermapbox\"}],\"scatterpolar\":[{\"marker\":{\"colorbar\":{\"outlinewidth\":0,\"ticks\":\"\"}},\"type\":\"scatterpolar\"}],\"scatterpolargl\":[{\"marker\":{\"colorbar\":{\"outlinewidth\":0,\"ticks\":\"\"}},\"type\":\"scatterpolargl\"}],\"scatterternary\":[{\"marker\":{\"colorbar\":{\"outlinewidth\":0,\"ticks\":\"\"}},\"type\":\"scatterternary\"}],\"surface\":[{\"colorbar\":{\"outlinewidth\":0,\"ticks\":\"\"},\"colorscale\":[[0.0,\"#0d0887\"],[0.1111111111111111,\"#46039f\"],[0.2222222222222222,\"#7201a8\"],[0.3333333333333333,\"#9c179e\"],[0.4444444444444444,\"#bd3786\"],[0.5555555555555556,\"#d8576b\"],[0.6666666666666666,\"#ed7953\"],[0.7777777777777778,\"#fb9f3a\"],[0.8888888888888888,\"#fdca26\"],[1.0,\"#f0f921\"]],\"type\":\"surface\"}],\"table\":[{\"cells\":{\"fill\":{\"color\":\"#EBF0F8\"},\"line\":{\"color\":\"white\"}},\"header\":{\"fill\":{\"color\":\"#C8D4E3\"},\"line\":{\"color\":\"white\"}},\"type\":\"table\"}]},\"layout\":{\"annotationdefaults\":{\"arrowcolor\":\"#2a3f5f\",\"arrowhead\":0,\"arrowwidth\":1},\"autotypenumbers\":\"strict\",\"coloraxis\":{\"colorbar\":{\"outlinewidth\":0,\"ticks\":\"\"}},\"colorscale\":{\"diverging\":[[0,\"#8e0152\"],[0.1,\"#c51b7d\"],[0.2,\"#de77ae\"],[0.3,\"#f1b6da\"],[0.4,\"#fde0ef\"],[0.5,\"#f7f7f7\"],[0.6,\"#e6f5d0\"],[0.7,\"#b8e186\"],[0.8,\"#7fbc41\"],[0.9,\"#4d9221\"],[1,\"#276419\"]],\"sequential\":[[0.0,\"#0d0887\"],[0.1111111111111111,\"#46039f\"],[0.2222222222222222,\"#7201a8\"],[0.3333333333333333,\"#9c179e\"],[0.4444444444444444,\"#bd3786\"],[0.5555555555555556,\"#d8576b\"],[0.6666666666666666,\"#ed7953\"],[0.7777777777777778,\"#fb9f3a\"],[0.8888888888888888,\"#fdca26\"],[1.0,\"#f0f921\"]],\"sequentialminus\":[[0.0,\"#0d0887\"],[0.1111111111111111,\"#46039f\"],[0.2222222222222222,\"#7201a8\"],[0.3333333333333333,\"#9c179e\"],[0.4444444444444444,\"#bd3786\"],[0.5555555555555556,\"#d8576b\"],[0.6666666666666666,\"#ed7953\"],[0.7777777777777778,\"#fb9f3a\"],[0.8888888888888888,\"#fdca26\"],[1.0,\"#f0f921\"]]},\"colorway\":[\"#636efa\",\"#EF553B\",\"#00cc96\",\"#ab63fa\",\"#FFA15A\",\"#19d3f3\",\"#FF6692\",\"#B6E880\",\"#FF97FF\",\"#FECB52\"],\"font\":{\"color\":\"#2a3f5f\"},\"geo\":{\"bgcolor\":\"white\",\"lakecolor\":\"white\",\"landcolor\":\"#E5ECF6\",\"showlakes\":true,\"showland\":true,\"subunitcolor\":\"white\"},\"hoverlabel\":{\"align\":\"left\"},\"hovermode\":\"closest\",\"mapbox\":{\"style\":\"light\"},\"paper_bgcolor\":\"white\",\"plot_bgcolor\":\"#E5ECF6\",\"polar\":{\"angularaxis\":{\"gridcolor\":\"white\",\"linecolor\":\"white\",\"ticks\":\"\"},\"bgcolor\":\"#E5ECF6\",\"radialaxis\":{\"gridcolor\":\"white\",\"linecolor\":\"white\",\"ticks\":\"\"}},\"scene\":{\"xaxis\":{\"backgroundcolor\":\"#E5ECF6\",\"gridcolor\":\"white\",\"gridwidth\":2,\"linecolor\":\"white\",\"showbackground\":true,\"ticks\":\"\",\"zerolinecolor\":\"white\"},\"yaxis\":{\"backgroundcolor\":\"#E5ECF6\",\"gridcolor\":\"white\",\"gridwidth\":2,\"linecolor\":\"white\",\"showbackground\":true,\"ticks\":\"\",\"zerolinecolor\":\"white\"},\"zaxis\":{\"backgroundcolor\":\"#E5ECF6\",\"gridcolor\":\"white\",\"gridwidth\":2,\"linecolor\":\"white\",\"showbackground\":true,\"ticks\":\"\",\"zerolinecolor\":\"white\"}},\"shapedefaults\":{\"line\":{\"color\":\"#2a3f5f\"}},\"ternary\":{\"aaxis\":{\"gridcolor\":\"white\",\"linecolor\":\"white\",\"ticks\":\"\"},\"baxis\":{\"gridcolor\":\"white\",\"linecolor\":\"white\",\"ticks\":\"\"},\"bgcolor\":\"#E5ECF6\",\"caxis\":{\"gridcolor\":\"white\",\"linecolor\":\"white\",\"ticks\":\"\"}},\"title\":{\"x\":0.05},\"xaxis\":{\"automargin\":true,\"gridcolor\":\"white\",\"linecolor\":\"white\",\"ticks\":\"\",\"title\":{\"standoff\":15},\"zerolinecolor\":\"white\",\"zerolinewidth\":2},\"yaxis\":{\"automargin\":true,\"gridcolor\":\"white\",\"linecolor\":\"white\",\"ticks\":\"\",\"title\":{\"standoff\":15},\"zerolinecolor\":\"white\",\"zerolinewidth\":2}}},\"xaxis\":{\"anchor\":\"y\",\"domain\":[0.0,1.0],\"title\":{\"text\":\"Frequency\"}},\"yaxis\":{\"anchor\":\"x\",\"domain\":[0.0,1.0],\"title\":{\"text\":\"count\"}},\"legend\":{\"tracegroupgap\":0},\"margin\":{\"t\":60},\"barmode\":\"relative\"},                        {\"responsive\": true}                    ).then(function(){\n",
       "                            \n",
       "var gd = document.getElementById('d66fac7f-6097-431f-986c-9281c57b21be');\n",
       "var x = new MutationObserver(function (mutations, observer) {{\n",
       "        var display = window.getComputedStyle(gd).display;\n",
       "        if (!display || display === 'none') {{\n",
       "            console.log([gd, 'removed!']);\n",
       "            Plotly.purge(gd);\n",
       "            observer.disconnect();\n",
       "        }}\n",
       "}});\n",
       "\n",
       "// Listen for the removal of the full notebook cells\n",
       "var notebookContainer = gd.closest('#notebook-container');\n",
       "if (notebookContainer) {{\n",
       "    x.observe(notebookContainer, {childList: true});\n",
       "}}\n",
       "\n",
       "// Listen for the clearing of the current output cell\n",
       "var outputEl = gd.closest('.output');\n",
       "if (outputEl) {{\n",
       "    x.observe(outputEl, {childList: true});\n",
       "}}\n",
       "\n",
       "                        })                };                });            </script>        </div>"
      ]
     },
     "metadata": {},
     "output_type": "display_data"
    }
   ],
   "source": [
    "fig = px.histogram(RFM, x='Frequency')\n",
    "fig.show()"
   ]
  },
  {
   "cell_type": "markdown",
   "id": "7d0824f0",
   "metadata": {
    "papermill": {
     "duration": 0.019239,
     "end_time": "2022-01-31T10:54:43.346669",
     "exception": false,
     "start_time": "2022-01-31T10:54:43.327430",
     "status": "completed"
    },
    "tags": []
   },
   "source": [
    "Já a frequência, apesar de ter uma grande quantidade de clientes que não passaram de 10 compras, existe outra leva de clientes que passou e muito de 10 compras, sendo distribuídos entre 10 até 30."
   ]
  },
  {
   "cell_type": "code",
   "execution_count": 10,
   "id": "706d3f6b",
   "metadata": {
    "execution": {
     "iopub.execute_input": "2022-01-31T10:54:43.389509Z",
     "iopub.status.busy": "2022-01-31T10:54:43.388797Z",
     "iopub.status.idle": "2022-01-31T10:54:43.444645Z",
     "shell.execute_reply": "2022-01-31T10:54:43.443920Z",
     "shell.execute_reply.started": "2022-01-31T10:53:00.593698Z"
    },
    "papermill": {
     "duration": 0.078623,
     "end_time": "2022-01-31T10:54:43.444808",
     "exception": false,
     "start_time": "2022-01-31T10:54:43.366185",
     "status": "completed"
    },
    "tags": []
   },
   "outputs": [
    {
     "data": {
      "text/html": [
       "<div>                            <div id=\"a449e348-4201-47ba-9175-8f7c8e647de0\" class=\"plotly-graph-div\" style=\"height:525px; width:100%;\"></div>            <script type=\"text/javascript\">                require([\"plotly\"], function(Plotly) {                    window.PLOTLYENV=window.PLOTLYENV || {};                                    if (document.getElementById(\"a449e348-4201-47ba-9175-8f7c8e647de0\")) {                    Plotly.newPlot(                        \"a449e348-4201-47ba-9175-8f7c8e647de0\",                        [{\"alignmentgroup\":\"True\",\"bingroup\":\"x\",\"hovertemplate\":\"MonetaryValue=%{x}<br>count=%{y}<extra></extra>\",\"legendgroup\":\"\",\"marker\":{\"color\":\"#636efa\",\"pattern\":{\"shape\":\"\"}},\"name\":\"\",\"offsetgroup\":\"\",\"orientation\":\"v\",\"showlegend\":false,\"x\":[1617,27,776,53,422,716,590,169,46,49,19,61,1102,310,46,1315,96,317,1782,133,316,1730,972,544,444,75,257,637,131,1672,30,318,120,302,1196,65,913,81,67,902,1395,53,22,186,31,984,122,55,124,1319,507,1693,72,1617,606,1957,1093,29,46,518,1438,612,884,606,1076,34,11,1274,653,1562,1253,109,863,661,65,13,1890,2209,18,692,165,16,79,318,778,56,151,372,1366,194,603,18,985,32,43,45,606,63,978,410,72,55,1169,1120,1097,29,187,910,145,850,969,1820,608,730,551,114,1724,577,81,33,660,80,30,43,1135,559,1923,90,404,661,463,632,725,725,279,1482,29,106,49,38,2077,1053,1385,871,312,877,68,22,211,127,459,460,429,89,1021,1381,306,18,162,1231,13,1706,121,1293,1608,88,421,259,1117,89,36,57,148,93,119,1835,1318,45,10,978,191,57,1033,66,43,50,39,608,1581,68,80,1282,65,91,315,31,834,1600,1270,263,535,1295,1150,1240,38,35,53,293,65,1804,241,1101,264,541,1198,482,17,1615,285,1135,114,1047,714,185,1245,189,576,1103,1753,17,433,1588,22,19,1117,69,23,605,57,22,2088,1009,26,1627,1102,17,1690,1390,2126,1531,64,26,1112,210,1148,33,1101,322,44,17,31,845,275,25,275,90,1495,184,981,67,1635,60,231,48,99,770,957,818,925,908,102,576,317,461,37,70,930,859,1478,390,52,137,1919,68,25,1374,32,100,825,916,62,728,90,273,66,1213,107,1157,546,241,53,37,1611,1508,235,32,102,401,28,1052,680,30,20,1307,630,1283,65,37,38,160,23,71,1161,59,33,946,1442,62,1674,1853,1538,139,1182,507,18,940,42,1190,44,16,835,1443,1029,1188,1277,49,99,1670,900,425,2153,636,57,25,494,693,1348,51,1932,990,30,254,29,1371,73,120,81,37,1377,51,17,22,324,211,19,41,492,1005,114,1173,1738,222,1127,209,787,1598,186,47,27,96,64,1040,163,343,446,41,70,272,46,490,79,915,1485,369,1073,1242,78,1378,1474,751,48,45,10,1435,2119,20,1795,1188,43,1008,1688,684,1082,1068,57,46,733,467,122,36,34,156,14,37,34,20,192,1379,48,428,868,1001,59,431,971,348,2059,265,270,1289,893,926,135,1495,120,1288,1743,15,542,890,1388,17,906,44,25,973,31,518,530,506,70,54,296,266,747,895,1053,735,20,205,2092,309,1722,900,682,663,43,1816,976,746,64,32,263,1445,46,1210,945,1157,137,730,216,943,347,1924,397,2089,138,42,777,1902,52,1651,358,1727,210,42,1291,442,1895,411,521,1168,493,260,46,319,96,1062,232,76,54,201,406,1919,662,41,1600,134,69,21,54,91,526,162,1008,240,795,1772,64,1957,78,1572,795,889,331,265,1065,11,21,17,369,38,177,279,62,1230,182,49,75,227,215,444,47,143,55,63,1867,611,473,55,81,2086,1478,49,382,69,67,30,63,79,42,819,1151,594,129,213,67,28,45,1193,268,266,37,37,882,373,35,107,42,326,404,95,939,33,981,36,1237,1825,103,191,1586,963,889,93,1587,16,1375,393,1477,1179,1005,1348,1307,486,2252,235,1724,235,1092,599,2008,48,1174,67,365,6,165,210,1095,223,597,22,1064,74,26,60,20,59,34,198,1048,574,1029,670,990,11,1241,576,172,664,928,2074,467,257,1146,689,2114,1717,1346,1044,493,957,270,29,121,126,23,57,636,1004,734,614,1453,1621,187,1443,57,637,948,59,18,903,112,596,233,1511,1152,48,1185,21,965,869,16,1947,71,65,1380,1027,411,836,11,480,606,284,1472,1677,1335,334,18,1338,1099,97,63,109,902,1574,38,960,28,1215,1497,449,1064,1757,1440,1006,1226,1171,92,99,66,564,1427,86,833,242,1869,1364,183,450,758,1507,654,81,137,16,93,1158,43,1525,1230,29,25,24,38,57,47,813,629,377,1612,729,50,270,177,315,767,1071,1580,60,573,41,170,1167,1526,458,63,405,1027,1478,72,48,726,860,1497,495,20,570,769,55,1808,55,577,162,1957,1576,1616,36,1482,22,63,680,542,50,39,1043,385,1633,46,761,76,290,89,70,1066,2009,1345,764,195,53,368,544,1853,35,446,1180,41,727,40,1062,40,292,15,341,369,401,393,10,486,69,1727,995,45,182,989,1677,595,156,1226,128,86,68,16,55,2114,2018,263,55,564,1281,83,353,1003,14,902,1139,797,1638,401,84,928,203,858,409,282,1423,1449,28,67,199,1453,1253,1198,178,1990,976,1001,1919,350,1650,46,1228,95,62,1761,467,1149,2052,1127,1416,1113,125,966,32,833,46,960,1829,779,811,1120,725,1187,2302,66,1250,683,305,50,995,41,77,171,131,54,53,475,694,96,361,1079,578,64,149,231,728,1778,93,23,662,1198,81,92,491,1564,926,1910,411,94,1085,23,6,54,1150,1415,405,1908,2486,1315,45,1789,19,573,805,108,23,1493,89,936,343,528,1901,724,58,297,488,859,1574,69,17,2194,116,279,103,44,406,1363,236,39,137,79,63,1314,71,58,702,94,80,22,1211,1461,1968,1091,55,1366,313,62,92,72,655,704,54,178,1033,36,122,122,1123,497,691,1363,12,2440,56,37,968,270,278,1250,938,1178,1155,653,49,506,38,1650,1826,18,906,46,1477,766,47,467,2116,1298,22,396,20,967,357,1401,15,2087,981,17,523,23,1192,1958,133,777,73,121,424,868,756,12,937,1862,367,443,267,61,1323,63,64,562,312,1156,1104,16,2008,44,1574,63,426,96,635,757,125,332,135,330,384,1722,78,24,1168,957,15,57,1956,2013,326,77,1313,30,315,660,74,46,86,1103,61,145,684,411,27,1060,1459,18,1833,237,48,515,1020,1370,1026,301,684,499,1004,218,606,75,106,990,1097,16,34,1711,438,75,225,18,470,91,2525,504,235,1232,88,17,24,60,1020,155,51,1812,1461,96,160,139,908,183,1161,988,1072,174,758,195,31,1084,685,1672,43,49,133,363,545,1065,2047,296,140,530,152,1598,114,101,25,789,87,90,1215,811,61,405,72,189,40,63,52,39,805,130,1631,34,152,21,71,899,711,351,8,119,21,10,973,1536,992,1529,860,928,418,587,641,23,2279,49,1779,1804,48,83,1862,793,84,183,1383,999,825,246,610,76,1286,30,99,1192,362,2130,1229,38,485,434,44,496,78,2346,794,17,26,76,15,62,198,49,802,1736,57,59,2302,37,310,1305,832,401,1501,1189,1194,656,1540,311,820,274,57,448,44,102,61,1643,397,1121,473,50,1678,58,170,373,1196,101,316,1400,1424,844,311,1149,129,32,299,320,441,1178,85,24,112,30,410,800,1313,1483,1258,28,227,1555,861,103,634,1918,131,586,62,447,939,797,1143,415,30,187,251,237,91,35,493,971,371,396,68,322,317,222,177,45,21,45,1899,42,22,41,1440,325,95,42,72,20,789,15,59,908,417,289,769,188,354,727,146,319,794,454,152,797,1690,20,1428,209,545,96,222,61,44,8,817,1371,42,60,78,23,19,61,449,37,38,1131,34,294,48,289,30,125,156,70,22,65,1930,2283,310,1319,879,1244,690,209,1134,1507,57,529,1091,180,77,2349,534,556,637,46,44,47,795,586,1574,13,1471,65,175,40,1078,1115,134,1540,87,217,1034,1180,819,32,46,1159,860,1631,444,1910,380,736,269,2524,612,75,1045,55,1064,1443,1366,436,38,436,747,1396,928,642,1048,943,907,1198,120,1658,1638,73,275,854,78,106,106,1923,1662,84,48,5,733,1234,112,1658,55,1513,271,904,120,103,269,22,1156,1086,1128,72,964,1383,18,793,100,80,167,677,23,92,641,1106,1033,1174,25,240,20,102,1034,156,458,17,792,92,407,1269,841,633,1019,1315,54,2525,52,436,268,147,1798,137,507,15,1105,974,66,778,49,169,299,221,1682,155,892,58,311,95,424,47,339,1410,35,562,2352,1334,32,41,39,1141,710,401,506,1538,57,1722,270,31,882,16,311,227,1152,122,77,1289,561,211,233,1092,601,54,78,1095,244,116,15,425,734,638,894,41,31,34,1750,612,29,823,20,396,813,1179,138,55,1511,117,1730,32,67,335,825,694,1792,496,231,902,68,71,76,772,47,1586,1529,265,1603,2091,981,1533,82,244,36,404,71,1572,122,41,10,304,37,1754,815,1001,1157,688,1319,21,31,67,708,25,746,32,1695,1080,72,57,660,103,153,1220,279,745,264,2157,1526,69,1597,64,497,1067,31,211,877,11,2034,1991,1686,324,69,252,54,964,1327,68,60,55,1456,563,1504,564,1125,358,42,184,460,145,1376,792,1382,28,1033,882,2231,1101,369,48,467,44,38,81,167,45,664,622,48,461,1073,55,976,20,1149,43,224,101,209,968,1165,24,252,165,269,102,461,47,144,1338,917,318,253,502,119,1250,969,76,62,1382,84,255,43,398,76,902,823,1179,1921,185,433,34,907,416,44,1588,1797,40,1143,914,1502,1338,27,763,1331,525,9,953,68,131,882,1149,37,388,1428,1633,173,99,215,929,219,174,92,1052,275,587,1662,159,1024,35,1042,395,557,9,69,486,34,1365,13,1401,1574,1323,1217,103,84,1536,581,928,14,424,960,1555,656,55,20,367,2257,42,1049,48,685,39,43,835,1515,1039,1596,1828,34,149,946,28,450,46,1702,820,382,2126,2069,72,732,801,236,80,1685,277,507,68,49,397,39,306,976,1028,70,46,51,1263,1490,1564,1815,1198,416,85,47,137,21,70,909,1676,1735,1191,24,1182,1280,1336,749,91,414,44,63,901,38,455,775,15,38,1512,43,42,1089,162,1272,1173,816,74,134,157,561,1336,2092,463,1130,20,377,1544,138,1012,1766,45,161,144,1734,823,1138,1429,1371,982,44,318,434,198,359,576,88,63,27,193,101,2211,140,415,22,263,393,147,443,1958,174,2217,1691,25,809,895,484,413,331,25,13,115,16,92,52,1464,441,283,747,1870,165,1941,839,1655,23,66,37,21,22,78,79,265,1175,1305,46,25,46,874,100,930,868,45,1260,414,392,1109,639,79,1665,692,1392,44,50,467,223,158,1211,1575,1208,43,527,932,71,54,129,1615,1034,1088,721,137,47,1244,41,1174,993,100,1680,98,48,519,715,37,653,1455,602,26,102,97,207,176,450,433,1366,1564,1001,961,1518,56,22,400,26,350,1216,874,40,1367,264,2053,1376,45,976,51,1264,75,57,140,497,266,2006,615,1021,22,133,437,1013,57,1038,1573,28,123,13,132,732,66,1631,608,1822,1282,8,43,1931,8,103,1169,395,258,25,185,180,22,44,94,81,798,1334,38,61,300,88,54,1782,68,258,31,66,174,28,731,274,1701,312,414,1565,29,94,1338,1092,1479,54,568,1199,873,1213,731,2043,1893,424,575,257,56,542,125,69,40,1016,907,1566,1169,46,1644,59,17,1853,1528,35,141,546,500,61,106,704,424,849,85,199,1147,54,43,53,521,1623,45,1435,32,16,52,1234,15,415,470,1438,53,51,679,586,653,468,1679,50,84,1049,22,62,30,1341,444,1241,843,172],\"xaxis\":\"x\",\"yaxis\":\"y\",\"type\":\"histogram\"}],                        {\"template\":{\"data\":{\"bar\":[{\"error_x\":{\"color\":\"#2a3f5f\"},\"error_y\":{\"color\":\"#2a3f5f\"},\"marker\":{\"line\":{\"color\":\"#E5ECF6\",\"width\":0.5},\"pattern\":{\"fillmode\":\"overlay\",\"size\":10,\"solidity\":0.2}},\"type\":\"bar\"}],\"barpolar\":[{\"marker\":{\"line\":{\"color\":\"#E5ECF6\",\"width\":0.5},\"pattern\":{\"fillmode\":\"overlay\",\"size\":10,\"solidity\":0.2}},\"type\":\"barpolar\"}],\"carpet\":[{\"aaxis\":{\"endlinecolor\":\"#2a3f5f\",\"gridcolor\":\"white\",\"linecolor\":\"white\",\"minorgridcolor\":\"white\",\"startlinecolor\":\"#2a3f5f\"},\"baxis\":{\"endlinecolor\":\"#2a3f5f\",\"gridcolor\":\"white\",\"linecolor\":\"white\",\"minorgridcolor\":\"white\",\"startlinecolor\":\"#2a3f5f\"},\"type\":\"carpet\"}],\"choropleth\":[{\"colorbar\":{\"outlinewidth\":0,\"ticks\":\"\"},\"type\":\"choropleth\"}],\"contour\":[{\"colorbar\":{\"outlinewidth\":0,\"ticks\":\"\"},\"colorscale\":[[0.0,\"#0d0887\"],[0.1111111111111111,\"#46039f\"],[0.2222222222222222,\"#7201a8\"],[0.3333333333333333,\"#9c179e\"],[0.4444444444444444,\"#bd3786\"],[0.5555555555555556,\"#d8576b\"],[0.6666666666666666,\"#ed7953\"],[0.7777777777777778,\"#fb9f3a\"],[0.8888888888888888,\"#fdca26\"],[1.0,\"#f0f921\"]],\"type\":\"contour\"}],\"contourcarpet\":[{\"colorbar\":{\"outlinewidth\":0,\"ticks\":\"\"},\"type\":\"contourcarpet\"}],\"heatmap\":[{\"colorbar\":{\"outlinewidth\":0,\"ticks\":\"\"},\"colorscale\":[[0.0,\"#0d0887\"],[0.1111111111111111,\"#46039f\"],[0.2222222222222222,\"#7201a8\"],[0.3333333333333333,\"#9c179e\"],[0.4444444444444444,\"#bd3786\"],[0.5555555555555556,\"#d8576b\"],[0.6666666666666666,\"#ed7953\"],[0.7777777777777778,\"#fb9f3a\"],[0.8888888888888888,\"#fdca26\"],[1.0,\"#f0f921\"]],\"type\":\"heatmap\"}],\"heatmapgl\":[{\"colorbar\":{\"outlinewidth\":0,\"ticks\":\"\"},\"colorscale\":[[0.0,\"#0d0887\"],[0.1111111111111111,\"#46039f\"],[0.2222222222222222,\"#7201a8\"],[0.3333333333333333,\"#9c179e\"],[0.4444444444444444,\"#bd3786\"],[0.5555555555555556,\"#d8576b\"],[0.6666666666666666,\"#ed7953\"],[0.7777777777777778,\"#fb9f3a\"],[0.8888888888888888,\"#fdca26\"],[1.0,\"#f0f921\"]],\"type\":\"heatmapgl\"}],\"histogram\":[{\"marker\":{\"pattern\":{\"fillmode\":\"overlay\",\"size\":10,\"solidity\":0.2}},\"type\":\"histogram\"}],\"histogram2d\":[{\"colorbar\":{\"outlinewidth\":0,\"ticks\":\"\"},\"colorscale\":[[0.0,\"#0d0887\"],[0.1111111111111111,\"#46039f\"],[0.2222222222222222,\"#7201a8\"],[0.3333333333333333,\"#9c179e\"],[0.4444444444444444,\"#bd3786\"],[0.5555555555555556,\"#d8576b\"],[0.6666666666666666,\"#ed7953\"],[0.7777777777777778,\"#fb9f3a\"],[0.8888888888888888,\"#fdca26\"],[1.0,\"#f0f921\"]],\"type\":\"histogram2d\"}],\"histogram2dcontour\":[{\"colorbar\":{\"outlinewidth\":0,\"ticks\":\"\"},\"colorscale\":[[0.0,\"#0d0887\"],[0.1111111111111111,\"#46039f\"],[0.2222222222222222,\"#7201a8\"],[0.3333333333333333,\"#9c179e\"],[0.4444444444444444,\"#bd3786\"],[0.5555555555555556,\"#d8576b\"],[0.6666666666666666,\"#ed7953\"],[0.7777777777777778,\"#fb9f3a\"],[0.8888888888888888,\"#fdca26\"],[1.0,\"#f0f921\"]],\"type\":\"histogram2dcontour\"}],\"mesh3d\":[{\"colorbar\":{\"outlinewidth\":0,\"ticks\":\"\"},\"type\":\"mesh3d\"}],\"parcoords\":[{\"line\":{\"colorbar\":{\"outlinewidth\":0,\"ticks\":\"\"}},\"type\":\"parcoords\"}],\"pie\":[{\"automargin\":true,\"type\":\"pie\"}],\"scatter\":[{\"marker\":{\"colorbar\":{\"outlinewidth\":0,\"ticks\":\"\"}},\"type\":\"scatter\"}],\"scatter3d\":[{\"line\":{\"colorbar\":{\"outlinewidth\":0,\"ticks\":\"\"}},\"marker\":{\"colorbar\":{\"outlinewidth\":0,\"ticks\":\"\"}},\"type\":\"scatter3d\"}],\"scattercarpet\":[{\"marker\":{\"colorbar\":{\"outlinewidth\":0,\"ticks\":\"\"}},\"type\":\"scattercarpet\"}],\"scattergeo\":[{\"marker\":{\"colorbar\":{\"outlinewidth\":0,\"ticks\":\"\"}},\"type\":\"scattergeo\"}],\"scattergl\":[{\"marker\":{\"colorbar\":{\"outlinewidth\":0,\"ticks\":\"\"}},\"type\":\"scattergl\"}],\"scattermapbox\":[{\"marker\":{\"colorbar\":{\"outlinewidth\":0,\"ticks\":\"\"}},\"type\":\"scattermapbox\"}],\"scatterpolar\":[{\"marker\":{\"colorbar\":{\"outlinewidth\":0,\"ticks\":\"\"}},\"type\":\"scatterpolar\"}],\"scatterpolargl\":[{\"marker\":{\"colorbar\":{\"outlinewidth\":0,\"ticks\":\"\"}},\"type\":\"scatterpolargl\"}],\"scatterternary\":[{\"marker\":{\"colorbar\":{\"outlinewidth\":0,\"ticks\":\"\"}},\"type\":\"scatterternary\"}],\"surface\":[{\"colorbar\":{\"outlinewidth\":0,\"ticks\":\"\"},\"colorscale\":[[0.0,\"#0d0887\"],[0.1111111111111111,\"#46039f\"],[0.2222222222222222,\"#7201a8\"],[0.3333333333333333,\"#9c179e\"],[0.4444444444444444,\"#bd3786\"],[0.5555555555555556,\"#d8576b\"],[0.6666666666666666,\"#ed7953\"],[0.7777777777777778,\"#fb9f3a\"],[0.8888888888888888,\"#fdca26\"],[1.0,\"#f0f921\"]],\"type\":\"surface\"}],\"table\":[{\"cells\":{\"fill\":{\"color\":\"#EBF0F8\"},\"line\":{\"color\":\"white\"}},\"header\":{\"fill\":{\"color\":\"#C8D4E3\"},\"line\":{\"color\":\"white\"}},\"type\":\"table\"}]},\"layout\":{\"annotationdefaults\":{\"arrowcolor\":\"#2a3f5f\",\"arrowhead\":0,\"arrowwidth\":1},\"autotypenumbers\":\"strict\",\"coloraxis\":{\"colorbar\":{\"outlinewidth\":0,\"ticks\":\"\"}},\"colorscale\":{\"diverging\":[[0,\"#8e0152\"],[0.1,\"#c51b7d\"],[0.2,\"#de77ae\"],[0.3,\"#f1b6da\"],[0.4,\"#fde0ef\"],[0.5,\"#f7f7f7\"],[0.6,\"#e6f5d0\"],[0.7,\"#b8e186\"],[0.8,\"#7fbc41\"],[0.9,\"#4d9221\"],[1,\"#276419\"]],\"sequential\":[[0.0,\"#0d0887\"],[0.1111111111111111,\"#46039f\"],[0.2222222222222222,\"#7201a8\"],[0.3333333333333333,\"#9c179e\"],[0.4444444444444444,\"#bd3786\"],[0.5555555555555556,\"#d8576b\"],[0.6666666666666666,\"#ed7953\"],[0.7777777777777778,\"#fb9f3a\"],[0.8888888888888888,\"#fdca26\"],[1.0,\"#f0f921\"]],\"sequentialminus\":[[0.0,\"#0d0887\"],[0.1111111111111111,\"#46039f\"],[0.2222222222222222,\"#7201a8\"],[0.3333333333333333,\"#9c179e\"],[0.4444444444444444,\"#bd3786\"],[0.5555555555555556,\"#d8576b\"],[0.6666666666666666,\"#ed7953\"],[0.7777777777777778,\"#fb9f3a\"],[0.8888888888888888,\"#fdca26\"],[1.0,\"#f0f921\"]]},\"colorway\":[\"#636efa\",\"#EF553B\",\"#00cc96\",\"#ab63fa\",\"#FFA15A\",\"#19d3f3\",\"#FF6692\",\"#B6E880\",\"#FF97FF\",\"#FECB52\"],\"font\":{\"color\":\"#2a3f5f\"},\"geo\":{\"bgcolor\":\"white\",\"lakecolor\":\"white\",\"landcolor\":\"#E5ECF6\",\"showlakes\":true,\"showland\":true,\"subunitcolor\":\"white\"},\"hoverlabel\":{\"align\":\"left\"},\"hovermode\":\"closest\",\"mapbox\":{\"style\":\"light\"},\"paper_bgcolor\":\"white\",\"plot_bgcolor\":\"#E5ECF6\",\"polar\":{\"angularaxis\":{\"gridcolor\":\"white\",\"linecolor\":\"white\",\"ticks\":\"\"},\"bgcolor\":\"#E5ECF6\",\"radialaxis\":{\"gridcolor\":\"white\",\"linecolor\":\"white\",\"ticks\":\"\"}},\"scene\":{\"xaxis\":{\"backgroundcolor\":\"#E5ECF6\",\"gridcolor\":\"white\",\"gridwidth\":2,\"linecolor\":\"white\",\"showbackground\":true,\"ticks\":\"\",\"zerolinecolor\":\"white\"},\"yaxis\":{\"backgroundcolor\":\"#E5ECF6\",\"gridcolor\":\"white\",\"gridwidth\":2,\"linecolor\":\"white\",\"showbackground\":true,\"ticks\":\"\",\"zerolinecolor\":\"white\"},\"zaxis\":{\"backgroundcolor\":\"#E5ECF6\",\"gridcolor\":\"white\",\"gridwidth\":2,\"linecolor\":\"white\",\"showbackground\":true,\"ticks\":\"\",\"zerolinecolor\":\"white\"}},\"shapedefaults\":{\"line\":{\"color\":\"#2a3f5f\"}},\"ternary\":{\"aaxis\":{\"gridcolor\":\"white\",\"linecolor\":\"white\",\"ticks\":\"\"},\"baxis\":{\"gridcolor\":\"white\",\"linecolor\":\"white\",\"ticks\":\"\"},\"bgcolor\":\"#E5ECF6\",\"caxis\":{\"gridcolor\":\"white\",\"linecolor\":\"white\",\"ticks\":\"\"}},\"title\":{\"x\":0.05},\"xaxis\":{\"automargin\":true,\"gridcolor\":\"white\",\"linecolor\":\"white\",\"ticks\":\"\",\"title\":{\"standoff\":15},\"zerolinecolor\":\"white\",\"zerolinewidth\":2},\"yaxis\":{\"automargin\":true,\"gridcolor\":\"white\",\"linecolor\":\"white\",\"ticks\":\"\",\"title\":{\"standoff\":15},\"zerolinecolor\":\"white\",\"zerolinewidth\":2}}},\"xaxis\":{\"anchor\":\"y\",\"domain\":[0.0,1.0],\"title\":{\"text\":\"MonetaryValue\"}},\"yaxis\":{\"anchor\":\"x\",\"domain\":[0.0,1.0],\"title\":{\"text\":\"count\"}},\"legend\":{\"tracegroupgap\":0},\"margin\":{\"t\":60},\"barmode\":\"relative\"},                        {\"responsive\": true}                    ).then(function(){\n",
       "                            \n",
       "var gd = document.getElementById('a449e348-4201-47ba-9175-8f7c8e647de0');\n",
       "var x = new MutationObserver(function (mutations, observer) {{\n",
       "        var display = window.getComputedStyle(gd).display;\n",
       "        if (!display || display === 'none') {{\n",
       "            console.log([gd, 'removed!']);\n",
       "            Plotly.purge(gd);\n",
       "            observer.disconnect();\n",
       "        }}\n",
       "}});\n",
       "\n",
       "// Listen for the removal of the full notebook cells\n",
       "var notebookContainer = gd.closest('#notebook-container');\n",
       "if (notebookContainer) {{\n",
       "    x.observe(notebookContainer, {childList: true});\n",
       "}}\n",
       "\n",
       "// Listen for the clearing of the current output cell\n",
       "var outputEl = gd.closest('.output');\n",
       "if (outputEl) {{\n",
       "    x.observe(outputEl, {childList: true});\n",
       "}}\n",
       "\n",
       "                        })                };                });            </script>        </div>"
      ]
     },
     "metadata": {},
     "output_type": "display_data"
    }
   ],
   "source": [
    "fig = px.histogram(RFM, x='MonetaryValue')\n",
    "fig.show()"
   ]
  },
  {
   "cell_type": "markdown",
   "id": "50b18180",
   "metadata": {
    "papermill": {
     "duration": 0.019971,
     "end_time": "2022-01-31T10:54:43.486672",
     "exception": false,
     "start_time": "2022-01-31T10:54:43.466701",
     "status": "completed"
    },
    "tags": []
   },
   "source": [
    "Aqui em valor monetário, podemos observar que ¼ dos clientes não consumiram mais do que $100. "
   ]
  },
  {
   "cell_type": "markdown",
   "id": "143cffa4",
   "metadata": {
    "papermill": {
     "duration": 0.020102,
     "end_time": "2022-01-31T10:54:43.526980",
     "exception": false,
     "start_time": "2022-01-31T10:54:43.506878",
     "status": "completed"
    },
    "tags": []
   },
   "source": [
    "## Atribuindo pontuações por quintil\n",
    "\n",
    "As pontuações podem ser atribuídas de diversas formas, você pode usar a sua experiência de negócio para definir a quantidade de grupos que se encaixam melhor na sua base de clientes. Para essa análise, nós vamos dividir em quintis, uma das formas mais utilizadas por empresas ao fazer uso do RFM. \n",
    "O conceito é simples, para os valores de Frequência e Valor Monetário basta ordenar os dados do menor para o maior e dividir ele em cinco partes iguais. Cada uma dessas partes receberá uma nota de 1 a 5, sendo 5 a maior. Para a letra R é o contrário, vamos ordenar do maior para o menor, uma vez que, quanto menos tempo o cliente está sem comprar, melhor esse cliente é para empresa."
   ]
  },
  {
   "cell_type": "code",
   "execution_count": 11,
   "id": "e104d862",
   "metadata": {
    "execution": {
     "iopub.execute_input": "2022-01-31T10:54:43.570340Z",
     "iopub.status.busy": "2022-01-31T10:54:43.569599Z",
     "iopub.status.idle": "2022-01-31T10:54:43.600639Z",
     "shell.execute_reply": "2022-01-31T10:54:43.601294Z",
     "shell.execute_reply.started": "2022-01-31T10:53:00.657710Z"
    },
    "papermill": {
     "duration": 0.054351,
     "end_time": "2022-01-31T10:54:43.601468",
     "exception": false,
     "start_time": "2022-01-31T10:54:43.547117",
     "status": "completed"
    },
    "tags": []
   },
   "outputs": [
    {
     "data": {
      "text/html": [
       "<div>\n",
       "<style scoped>\n",
       "    .dataframe tbody tr th:only-of-type {\n",
       "        vertical-align: middle;\n",
       "    }\n",
       "\n",
       "    .dataframe tbody tr th {\n",
       "        vertical-align: top;\n",
       "    }\n",
       "\n",
       "    .dataframe thead th {\n",
       "        text-align: right;\n",
       "    }\n",
       "</style>\n",
       "<table border=\"1\" class=\"dataframe\">\n",
       "  <thead>\n",
       "    <tr style=\"text-align: right;\">\n",
       "      <th></th>\n",
       "      <th>ID</th>\n",
       "      <th>Recency</th>\n",
       "      <th>Frequency</th>\n",
       "      <th>MonetaryValue</th>\n",
       "      <th>R</th>\n",
       "      <th>F</th>\n",
       "      <th>M</th>\n",
       "    </tr>\n",
       "  </thead>\n",
       "  <tbody>\n",
       "    <tr>\n",
       "      <th>0</th>\n",
       "      <td>5524</td>\n",
       "      <td>58</td>\n",
       "      <td>22</td>\n",
       "      <td>1617</td>\n",
       "      <td>3</td>\n",
       "      <td>5</td>\n",
       "      <td>5</td>\n",
       "    </tr>\n",
       "    <tr>\n",
       "      <th>1</th>\n",
       "      <td>2174</td>\n",
       "      <td>38</td>\n",
       "      <td>4</td>\n",
       "      <td>27</td>\n",
       "      <td>4</td>\n",
       "      <td>1</td>\n",
       "      <td>1</td>\n",
       "    </tr>\n",
       "    <tr>\n",
       "      <th>2</th>\n",
       "      <td>4141</td>\n",
       "      <td>26</td>\n",
       "      <td>20</td>\n",
       "      <td>776</td>\n",
       "      <td>4</td>\n",
       "      <td>4</td>\n",
       "      <td>4</td>\n",
       "    </tr>\n",
       "    <tr>\n",
       "      <th>3</th>\n",
       "      <td>6182</td>\n",
       "      <td>26</td>\n",
       "      <td>6</td>\n",
       "      <td>53</td>\n",
       "      <td>4</td>\n",
       "      <td>2</td>\n",
       "      <td>1</td>\n",
       "    </tr>\n",
       "    <tr>\n",
       "      <th>4</th>\n",
       "      <td>5324</td>\n",
       "      <td>94</td>\n",
       "      <td>14</td>\n",
       "      <td>422</td>\n",
       "      <td>1</td>\n",
       "      <td>3</td>\n",
       "      <td>3</td>\n",
       "    </tr>\n",
       "    <tr>\n",
       "      <th>...</th>\n",
       "      <td>...</td>\n",
       "      <td>...</td>\n",
       "      <td>...</td>\n",
       "      <td>...</td>\n",
       "      <td>...</td>\n",
       "      <td>...</td>\n",
       "      <td>...</td>\n",
       "    </tr>\n",
       "    <tr>\n",
       "      <th>2235</th>\n",
       "      <td>10870</td>\n",
       "      <td>46</td>\n",
       "      <td>16</td>\n",
       "      <td>1341</td>\n",
       "      <td>3</td>\n",
       "      <td>4</td>\n",
       "      <td>5</td>\n",
       "    </tr>\n",
       "    <tr>\n",
       "      <th>2236</th>\n",
       "      <td>4001</td>\n",
       "      <td>56</td>\n",
       "      <td>15</td>\n",
       "      <td>444</td>\n",
       "      <td>3</td>\n",
       "      <td>3</td>\n",
       "      <td>3</td>\n",
       "    </tr>\n",
       "    <tr>\n",
       "      <th>2237</th>\n",
       "      <td>7270</td>\n",
       "      <td>91</td>\n",
       "      <td>18</td>\n",
       "      <td>1241</td>\n",
       "      <td>1</td>\n",
       "      <td>4</td>\n",
       "      <td>5</td>\n",
       "    </tr>\n",
       "    <tr>\n",
       "      <th>2238</th>\n",
       "      <td>8235</td>\n",
       "      <td>8</td>\n",
       "      <td>21</td>\n",
       "      <td>843</td>\n",
       "      <td>5</td>\n",
       "      <td>5</td>\n",
       "      <td>4</td>\n",
       "    </tr>\n",
       "    <tr>\n",
       "      <th>2239</th>\n",
       "      <td>9405</td>\n",
       "      <td>40</td>\n",
       "      <td>8</td>\n",
       "      <td>172</td>\n",
       "      <td>3</td>\n",
       "      <td>2</td>\n",
       "      <td>2</td>\n",
       "    </tr>\n",
       "  </tbody>\n",
       "</table>\n",
       "<p>2240 rows × 7 columns</p>\n",
       "</div>"
      ],
      "text/plain": [
       "         ID  Recency  Frequency  MonetaryValue  R  F  M\n",
       "0      5524       58         22           1617  3  5  5\n",
       "1      2174       38          4             27  4  1  1\n",
       "2      4141       26         20            776  4  4  4\n",
       "3      6182       26          6             53  4  2  1\n",
       "4      5324       94         14            422  1  3  3\n",
       "...     ...      ...        ...            ... .. .. ..\n",
       "2235  10870       46         16           1341  3  4  5\n",
       "2236   4001       56         15            444  3  3  3\n",
       "2237   7270       91         18           1241  1  4  5\n",
       "2238   8235        8         21            843  5  5  4\n",
       "2239   9405       40          8            172  3  2  2\n",
       "\n",
       "[2240 rows x 7 columns]"
      ]
     },
     "execution_count": 11,
     "metadata": {},
     "output_type": "execute_result"
    }
   ],
   "source": [
    "#Criando os rotulos\n",
    "r_labels = range(5, 0, -1)\n",
    "f_labels = range(1,6)\n",
    "m_labels = range(1,6)\n",
    "\n",
    "#Separando os dados \n",
    "r_quartiles = pd.qcut(RFM['Recency'], 5, labels=r_labels)\n",
    "f_quartiles = pd.qcut(RFM['Frequency'], q=5, labels=f_labels)\n",
    "m_quartiles = pd.qcut(RFM['MonetaryValue'], q=5, labels=m_labels)\n",
    "\n",
    "#Atribuindo os novos rotulos\n",
    "RFM = RFM.assign(R = r_quartiles, F=f_quartiles.values, M=m_quartiles.values)\n",
    "RFM"
   ]
  },
  {
   "cell_type": "markdown",
   "id": "e2b92f53",
   "metadata": {
    "papermill": {
     "duration": 0.018805,
     "end_time": "2022-01-31T10:54:43.641788",
     "exception": false,
     "start_time": "2022-01-31T10:54:43.622983",
     "status": "completed"
    },
    "tags": []
   },
   "source": [
    "vamos tirar uma média entre a Frequência e Valor Monetário, para fazer isso basta somar ambas as notas e dividir por 2. O próximo passo agora é usar a matriz como referência para segmentar cada cliente. "
   ]
  },
  {
   "cell_type": "code",
   "execution_count": 12,
   "id": "7ffd0022",
   "metadata": {
    "execution": {
     "iopub.execute_input": "2022-01-31T10:54:43.681760Z",
     "iopub.status.busy": "2022-01-31T10:54:43.680841Z",
     "iopub.status.idle": "2022-01-31T10:54:44.011853Z",
     "shell.execute_reply": "2022-01-31T10:54:44.012352Z",
     "shell.execute_reply.started": "2022-01-31T10:53:00.683856Z"
    },
    "papermill": {
     "duration": 0.352456,
     "end_time": "2022-01-31T10:54:44.012525",
     "exception": false,
     "start_time": "2022-01-31T10:54:43.660069",
     "status": "completed"
    },
    "tags": []
   },
   "outputs": [
    {
     "data": {
      "image/png": "[encoded data removed]",
      "text/plain": [
       "<Figure size 1080x576 with 2 Axes>"
      ]
     },
     "metadata": {
      "needs_background": "light"
     },
     "output_type": "display_data"
    }
   ],
   "source": [
    "#Média de F+M\n",
    "RFM['FM_mean'] = round( ( (RFM[ ['F','M'] ].sum(axis=1) ) / 2 ), 0 )\n",
    "\n",
    "#Pivotando a tabela\n",
    "RFMpivot = RFM.pivot_table(values='ID', index='FM_mean', columns='R', aggfunc='count')\n",
    "RFMpivot = RFMpivot.loc[[5,4,3,2,1],[1,2,3,4,5]]\n",
    "\n",
    "#Visualizando em um mapa de calor\n",
    "plt.figure(figsize=(15,8))\n",
    "plot = sns.heatmap(RFMpivot, annot=True, fmt='d', linewidths=10, \n",
    "            cmap='Oranges', annot_kws={\"fontsize\":20})\n",
    "plot.set_xlabel('Recência', fontsize=16)\n",
    "plot.set_ylabel('Frequência e Valor Monetário (média)', fontsize=16)\n",
    "plt.show()"
   ]
  },
  {
   "cell_type": "code",
   "execution_count": 13,
   "id": "0a29f789",
   "metadata": {
    "execution": {
     "iopub.execute_input": "2022-01-31T10:54:44.055905Z",
     "iopub.status.busy": "2022-01-31T10:54:44.055324Z",
     "iopub.status.idle": "2022-01-31T10:54:44.211247Z",
     "shell.execute_reply": "2022-01-31T10:54:44.210770Z",
     "shell.execute_reply.started": "2022-01-31T10:53:01.028318Z"
    },
    "papermill": {
     "duration": 0.178874,
     "end_time": "2022-01-31T10:54:44.211390",
     "exception": false,
     "start_time": "2022-01-31T10:54:44.032516",
     "status": "completed"
    },
    "tags": []
   },
   "outputs": [
    {
     "data": {
      "text/plain": [
       "Classe\n",
       "Clientes leais         565\n",
       "Em risco               471\n",
       "Lealdade potêncial     348\n",
       "Perdidos               269\n",
       "Prestes a hibernar     191\n",
       "Hibernando              97\n",
       "Promissor               90\n",
       "Recentes                79\n",
       "Precisam de atenção     58\n",
       "Não posso perde-los     47\n",
       "Campeões                25\n",
       "dtype: int64"
      ]
     },
     "execution_count": 13,
     "metadata": {},
     "output_type": "execute_result"
    }
   ],
   "source": [
    "#Vamos descobrir agora a quem se pertence a cada grupo\n",
    "\n",
    "RFM['R'] = RFM['R'].astype('int64')\n",
    "RFM['FM_mean'] = RFM['FM_mean'].astype('int64')\n",
    "\n",
    "#Irei atribuir os mesmos rótulos da imagem\n",
    "def classificar(df):\n",
    "    if (df['FM_mean'] == 5) and (df['R'] == 1):\n",
    "      return 'Não posso perde-los'\n",
    "    elif (df['FM_mean'] == 5) and (df['R'] == 2):\n",
    "      return 'Em risco'\n",
    "    elif (df['FM_mean'] == 4) and (df['R'] == 1):\n",
    "      return 'Em risco'\n",
    "    elif (df['FM_mean'] == 4) and (df['R'] == 2):\n",
    "      return 'Em risco'\n",
    "    elif (df['FM_mean'] == 3) and (df['R'] == 1):\n",
    "      return 'Em risco'\n",
    "    elif (df['FM_mean'] == 3) and (df['R'] == 2):\n",
    "      return 'Em risco'\n",
    "    elif (df['FM_mean'] == 5) and (df['R'] == 3):\n",
    "      return 'Clientes leais'\n",
    "    elif (df['FM_mean'] == 5) and (df['R'] == 4):\n",
    "      return 'Clientes leais'\n",
    "    elif (df['FM_mean'] == 4) and (df['R'] == 3):\n",
    "      return 'Clientes leais'\n",
    "    elif (df['FM_mean'] == 4) and (df['R'] == 4):\n",
    "      return 'Clientes leais'\n",
    "    elif (df['FM_mean'] == 4) and (df['R'] == 5):\n",
    "      return 'Clientes leais'\n",
    "    elif (df['FM_mean'] == 5) and (df['R'] == 5):\n",
    "      return 'Campeões'\n",
    "    elif (df['FM_mean'] == 3) and (df['R'] == 3):\n",
    "      return 'Precisam de atenção'\n",
    "    elif (df['FM_mean'] == 3) and (df['R'] >= 4):\n",
    "      return 'Lealdade potêncial'\n",
    "    elif (df['FM_mean'] == 2) and (df['R'] >= 4):\n",
    "      return 'Lealdade potêncial'\n",
    "    elif (df['FM_mean'] == 1) and (df['R'] <= 2):\n",
    "      return 'Perdidos'\n",
    "    elif (df['FM_mean'] == 2) and (df['R'] == 1):\n",
    "      return 'Perdidos'\n",
    "    elif (df['FM_mean'] == 2) and (df['R'] == 2):\n",
    "      return 'Hibernando'\n",
    "    elif (df['FM_mean'] <= 2) and (df['R'] == 3):\n",
    "      return 'Prestes a hibernar'\n",
    "    elif (df['FM_mean'] == 1) and (df['R'] == 4):\n",
    "      return 'Promissor'\n",
    "    else:\n",
    "      return 'Recentes'\n",
    "\n",
    "RFM['Classe'] = RFM.apply(classificar,axis=1)\n",
    "RFM.value_counts('Classe')"
   ]
  },
  {
   "cell_type": "code",
   "execution_count": 14,
   "id": "280b0a64",
   "metadata": {
    "execution": {
     "iopub.execute_input": "2022-01-31T10:54:44.260218Z",
     "iopub.status.busy": "2022-01-31T10:54:44.259175Z",
     "iopub.status.idle": "2022-01-31T10:54:44.538416Z",
     "shell.execute_reply": "2022-01-31T10:54:44.537761Z",
     "shell.execute_reply.started": "2022-01-31T10:53:01.193208Z"
    },
    "papermill": {
     "duration": 0.306444,
     "end_time": "2022-01-31T10:54:44.538560",
     "exception": false,
     "start_time": "2022-01-31T10:54:44.232116",
     "status": "completed"
    },
    "tags": []
   },
   "outputs": [
    {
     "data": {
      "text/plain": [
       "Text(0.5, 0, 'Classes')"
      ]
     },
     "execution_count": 14,
     "metadata": {},
     "output_type": "execute_result"
    },
    {
     "data": {
      "image/png": "[encoded data removed]",
      "text/plain": [
       "<Figure size 1440x720 with 1 Axes>"
      ]
     },
     "metadata": {
      "needs_background": "light"
     },
     "output_type": "display_data"
    }
   ],
   "source": [
    "#Vamos plotar um gráfico de barras e ver quantos clientes residem em cada categoria\n",
    "ord_rfm = RFM.groupby('Classe').agg('count').sort_values(by='ID',\n",
    "                                                         ascending=False).index\n",
    "plt.figure(figsize=(20,10))\n",
    "ax = sns.countplot(x=RFM[\"Classe\"], data=RFM, label=ord_rfm, order=ord_rfm)\n",
    "plt.ylabel(\"Número de Clientes\", fontsize=13)\n",
    "plt.xlabel(\"Classes\", fontsize=13)"
   ]
  },
  {
   "cell_type": "markdown",
   "id": "e7850a28",
   "metadata": {
    "papermill": {
     "duration": 0.020762,
     "end_time": "2022-01-31T10:54:44.581026",
     "exception": false,
     "start_time": "2022-01-31T10:54:44.560264",
     "status": "completed"
    },
    "tags": []
   },
   "source": [
    "A imagem mostra que o segundo maior grupo são de clientes em risco, o que pode se tornar uma oportunidade de conhecer melhor esse grupo para assim atraí-los a comprar novamente. \n",
    "\n",
    "## E agora?\n",
    "\n",
    "Como podemos ver, o modelo RFM pode trazer insights valiosos utilizando apenas três indicadores. Agora, a nossa equipe pode focar esforços para conhecer melhor cada grupo e suas dores, valorizar os melhores clientes, atrair aqueles que estão deixando de comprar, e tentar recuperar aqueles que deixaram. \n",
    "\n"
   ]
  }
 ],
 "metadata": {
  "kernelspec": {
   "display_name": "Python 3",
   "language": "python",
   "name": "python3"
  },
  "language_info": {
   "codemirror_mode": {
    "name": "ipython",
    "version": 3
   },
   "file_extension": ".py",
   "mimetype": "text/x-python",
   "name": "python",
   "nbconvert_exporter": "python",
   "pygments_lexer": "ipython3",
   "version": "3.7.12"
  },
  "papermill": {
   "default_parameters": {},
   "duration": 15.350333,
   "end_time": "2022-01-31T10:54:45.413457",
   "environment_variables": {},
   "exception": null,
   "input_path": "__notebook__.ipynb",
   "output_path": "__notebook__.ipynb",
   "parameters": {},
   "start_time": "2022-01-31T10:54:30.063124",
   "version": "2.3.3"
  }
 },
 "nbformat": 4,
 "nbformat_minor": 5
}
