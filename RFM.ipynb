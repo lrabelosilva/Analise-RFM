{
 "cells": [
  {
   "cell_type": "markdown",
   "id": "47e330c0",
   "metadata": {
    "_cell_guid": "b1076dfc-b9ad-4769-8c92-a6c4dae69d19",
    "_uuid": "8f2839f25d086af736a60e9eeb907d3b93b6e0e5",
    "execution": {
     "iopub.execute_input": "2022-01-31T00:48:45.710349Z",
     "iopub.status.busy": "2022-01-31T00:48:45.710001Z",
     "iopub.status.idle": "2022-01-31T00:48:45.725586Z",
     "shell.execute_reply": "2022-01-31T00:48:45.724638Z",
     "shell.execute_reply.started": "2022-01-31T00:48:45.710301Z"
    },
    "papermill": {
     "duration": 0.020576,
     "end_time": "2022-01-31T01:19:15.484097",
     "exception": false,
     "start_time": "2022-01-31T01:19:15.463521",
     "status": "completed"
    },
    "tags": []
   },
   "source": []
  },
  {
   "cell_type": "markdown",
   "id": "21cd4ad1",
   "metadata": {
    "papermill": {
     "duration": 0.015885,
     "end_time": "2022-01-31T01:19:15.517305",
     "exception": false,
     "start_time": "2022-01-31T01:19:15.501420",
     "status": "completed"
    },
    "tags": []
   },
   "source": []
  },
  {
   "cell_type": "markdown",
   "id": "625173e0",
   "metadata": {
    "papermill": {
     "duration": 0.016086,
     "end_time": "2022-01-31T01:19:15.549633",
     "exception": false,
     "start_time": "2022-01-31T01:19:15.533547",
     "status": "completed"
    },
    "tags": []
   },
   "source": []
  },
  {
   "cell_type": "markdown",
   "id": "f4e55c53",
   "metadata": {
    "papermill": {
     "duration": 0.015497,
     "end_time": "2022-01-31T01:19:15.581163",
     "exception": false,
     "start_time": "2022-01-31T01:19:15.565666",
     "status": "completed"
    },
    "tags": []
   },
   "source": [
    "# Conheça melhor seus clientes utilizando RFM\n",
    "\n",
    "## Aprenda como segmentar seus clientes com apenas três indicadores: recência, frequência e valor monetário.\n",
    "\n",
    "Nesse artigo vou mostrar como criar um modelo RFM para chamar de seu, e ensinar como implementar o modelo com poucas linhas de código em Python. \n",
    "\n",
    "## Por que você faria uma análise RFM?\n",
    "\n",
    "A segmentação RFM fará você entender melhor a sua base de clientes, por ser uma análise mais simples é uma ótima forma de começar com a análise de dados, e caso exista interesse da sua parte, pode ser aprofundada com técnicas e modelos mais avançados. \n",
    "\n",
    "Com o RFM você estará apto a responder perguntas de negócio como:\n",
    "\n",
    "* Quem são os melhores clientes?\n",
    "* Quais clientes estão deixando de comprar?\n",
    "* Quais são os clientes mais leais?\n",
    "* Quais clientes têm mais chances de comprar mais? \n",
    "* Quem são os clientes que não compram mais?\n",
    "* Quem são os clientes que não posso perder de jeito nenhum?\n",
    "* Quais clientes são mais suscetíveis a aceitar uma promoção?\n",
    "\n",
    "## Prazer, RFM\n",
    "RFM é um método estatístico simples utilizado para categorizar clientes baseados em seus hábitos de compra. Os hábitos são identificados através de três informações: recência (R), que para esse artigo vamos utilizar o número de dias desde a última compra do cliente, a frequência (F) em número vezes que o cliente fez uma compra e o valor monetário (M), que significa o valor entregue pelo cliente, para essa análise será a quantia total gasta pelo cliente durante o período analisado. Após estarmos com esses indicadores, vamos poder segmentar os clientes em grupos, que são:\n",
    "\n",
    "* Campeões: Compraram recentemente, além de comprar com frequência e gastam muito.\n",
    "* Clientes leais: Compradores recorrentes.\n",
    "* Lealdade potencial: São clientes novos que compram com frequência.\n",
    "* Novos Clientes: Compraram recentemente, mas não com frequência.\n",
    "* Promissores: Compradores recentes, mas que não gastaram muito\n",
    "* Em risco: Clientes que possuem uma frequência e valor monetário acima da média mas faz algum tempo que não compram, precisam ser trazidos de volta.\n",
    "* Não posso perdê-los: São clientes que compravam com frequência e gastavam bastante, mas por algum motivo, não compram há algum tempo.\n",
    "* Precisam de atenção: Estão na média da recência, frequência e valor monetário, talvez não comprem já a algum tempo.\n",
    "* Prestes a hibernar: Abaixo da média de recência e frequência. Se nada for feito, muito provavelmente serão perdidos.\n",
    "* Hibernando: Sua última compra já faz um tempo e foram poucas as vezes em que comprou, provavelmente será perdido em breve.\n",
    "* Perdido: Já não compram mais há muito tempo, além de não terem consumido muito ou frequentado outras vezes. \n",
    "\n",
    "\n",
    "\n",
    "\n"
   ]
  },
  {
   "cell_type": "markdown",
   "id": "aac5cd2d",
   "metadata": {
    "papermill": {
     "duration": 0.015318,
     "end_time": "2022-01-31T01:19:15.612104",
     "exception": false,
     "start_time": "2022-01-31T01:19:15.596786",
     "status": "completed"
    },
    "tags": []
   },
   "source": [
    "A segmentação RFM fará você entender melhor a sua base de clientes, por ser uma análise mais simples é uma ótima forma de começar com a análise de dados, e caso exista interesse da sua parte, pode ser aprofundada com técnicas e modelos mais avançados. \n",
    "\n",
    "Com o RFM você estará apto a responder perguntas de negócio como:\n",
    "\n",
    "* Quem são os melhores clientes?\n",
    "* Quais clientes estão deixando de comprar?\n",
    "* Quais são os clientes mais leais?\n",
    "* Quais clientes têm mais chances de comprar mais? \n",
    "* Quem são os clientes que não compram mais?\n",
    "* Quem são os clientes que não posso perder de jeito nenhum?\n",
    "* Quais clientes são mais suscetíveis a aceitar uma promoção?\n",
    "\n"
   ]
  },
  {
   "cell_type": "code",
   "execution_count": 1,
   "id": "85f8552b",
   "metadata": {
    "execution": {
     "iopub.execute_input": "2022-01-31T01:19:15.652952Z",
     "iopub.status.busy": "2022-01-31T01:19:15.652187Z",
     "iopub.status.idle": "2022-01-31T01:19:16.795529Z",
     "shell.execute_reply": "2022-01-31T01:19:16.796278Z"
    },
    "papermill": {
     "duration": 1.168873,
     "end_time": "2022-01-31T01:19:16.796576",
     "exception": false,
     "start_time": "2022-01-31T01:19:15.627703",
     "status": "completed"
    },
    "tags": []
   },
   "outputs": [
    {
     "name": "stdout",
     "output_type": "stream",
     "text": [
      "/kaggle/input/customer-personality-analysis/marketing_campaign.csv\n"
     ]
    }
   ],
   "source": [
    "#importing libraries\n",
    "import numpy as np # linear algebra\n",
    "import pandas as pd # data processing, CSV file I/O (e.g. pd.read_csv)\n",
    "\n",
    "import matplotlib.pyplot as plt\n",
    "%matplotlib inline\n",
    "import seaborn as sns\n",
    "\n",
    "import warnings\n",
    "warnings.filterwarnings('ignore')\n",
    "\n",
    "import os\n",
    "for dirname, _, filenames in os.walk('/kaggle/input'):\n",
    "    for filename in filenames:\n",
    "        print(os.path.join(dirname, filename))"
   ]
  },
  {
   "cell_type": "code",
   "execution_count": 2,
   "id": "bae833c9",
   "metadata": {
    "execution": {
     "iopub.execute_input": "2022-01-31T01:19:16.838395Z",
     "iopub.status.busy": "2022-01-31T01:19:16.834920Z",
     "iopub.status.idle": "2022-01-31T01:19:16.904649Z",
     "shell.execute_reply": "2022-01-31T01:19:16.905218Z"
    },
    "papermill": {
     "duration": 0.091014,
     "end_time": "2022-01-31T01:19:16.905439",
     "exception": false,
     "start_time": "2022-01-31T01:19:16.814425",
     "status": "completed"
    },
    "tags": []
   },
   "outputs": [
    {
     "data": {
      "text/html": [
       "<div>\n",
       "<style scoped>\n",
       "    .dataframe tbody tr th:only-of-type {\n",
       "        vertical-align: middle;\n",
       "    }\n",
       "\n",
       "    .dataframe tbody tr th {\n",
       "        vertical-align: top;\n",
       "    }\n",
       "\n",
       "    .dataframe thead th {\n",
       "        text-align: right;\n",
       "    }\n",
       "</style>\n",
       "<table border=\"1\" class=\"dataframe\">\n",
       "  <thead>\n",
       "    <tr style=\"text-align: right;\">\n",
       "      <th></th>\n",
       "      <th>ID</th>\n",
       "      <th>Year_Birth</th>\n",
       "      <th>Education</th>\n",
       "      <th>Marital_Status</th>\n",
       "      <th>Income</th>\n",
       "      <th>Kidhome</th>\n",
       "      <th>Teenhome</th>\n",
       "      <th>Dt_Customer</th>\n",
       "      <th>Recency</th>\n",
       "      <th>MntWines</th>\n",
       "      <th>...</th>\n",
       "      <th>NumWebVisitsMonth</th>\n",
       "      <th>AcceptedCmp3</th>\n",
       "      <th>AcceptedCmp4</th>\n",
       "      <th>AcceptedCmp5</th>\n",
       "      <th>AcceptedCmp1</th>\n",
       "      <th>AcceptedCmp2</th>\n",
       "      <th>Complain</th>\n",
       "      <th>Z_CostContact</th>\n",
       "      <th>Z_Revenue</th>\n",
       "      <th>Response</th>\n",
       "    </tr>\n",
       "  </thead>\n",
       "  <tbody>\n",
       "    <tr>\n",
       "      <th>0</th>\n",
       "      <td>5524</td>\n",
       "      <td>1957</td>\n",
       "      <td>Graduation</td>\n",
       "      <td>Single</td>\n",
       "      <td>58138.0</td>\n",
       "      <td>0</td>\n",
       "      <td>0</td>\n",
       "      <td>04-09-2012</td>\n",
       "      <td>58</td>\n",
       "      <td>635</td>\n",
       "      <td>...</td>\n",
       "      <td>7</td>\n",
       "      <td>0</td>\n",
       "      <td>0</td>\n",
       "      <td>0</td>\n",
       "      <td>0</td>\n",
       "      <td>0</td>\n",
       "      <td>0</td>\n",
       "      <td>3</td>\n",
       "      <td>11</td>\n",
       "      <td>1</td>\n",
       "    </tr>\n",
       "    <tr>\n",
       "      <th>1</th>\n",
       "      <td>2174</td>\n",
       "      <td>1954</td>\n",
       "      <td>Graduation</td>\n",
       "      <td>Single</td>\n",
       "      <td>46344.0</td>\n",
       "      <td>1</td>\n",
       "      <td>1</td>\n",
       "      <td>08-03-2014</td>\n",
       "      <td>38</td>\n",
       "      <td>11</td>\n",
       "      <td>...</td>\n",
       "      <td>5</td>\n",
       "      <td>0</td>\n",
       "      <td>0</td>\n",
       "      <td>0</td>\n",
       "      <td>0</td>\n",
       "      <td>0</td>\n",
       "      <td>0</td>\n",
       "      <td>3</td>\n",
       "      <td>11</td>\n",
       "      <td>0</td>\n",
       "    </tr>\n",
       "    <tr>\n",
       "      <th>2</th>\n",
       "      <td>4141</td>\n",
       "      <td>1965</td>\n",
       "      <td>Graduation</td>\n",
       "      <td>Together</td>\n",
       "      <td>71613.0</td>\n",
       "      <td>0</td>\n",
       "      <td>0</td>\n",
       "      <td>21-08-2013</td>\n",
       "      <td>26</td>\n",
       "      <td>426</td>\n",
       "      <td>...</td>\n",
       "      <td>4</td>\n",
       "      <td>0</td>\n",
       "      <td>0</td>\n",
       "      <td>0</td>\n",
       "      <td>0</td>\n",
       "      <td>0</td>\n",
       "      <td>0</td>\n",
       "      <td>3</td>\n",
       "      <td>11</td>\n",
       "      <td>0</td>\n",
       "    </tr>\n",
       "    <tr>\n",
       "      <th>3</th>\n",
       "      <td>6182</td>\n",
       "      <td>1984</td>\n",
       "      <td>Graduation</td>\n",
       "      <td>Together</td>\n",
       "      <td>26646.0</td>\n",
       "      <td>1</td>\n",
       "      <td>0</td>\n",
       "      <td>10-02-2014</td>\n",
       "      <td>26</td>\n",
       "      <td>11</td>\n",
       "      <td>...</td>\n",
       "      <td>6</td>\n",
       "      <td>0</td>\n",
       "      <td>0</td>\n",
       "      <td>0</td>\n",
       "      <td>0</td>\n",
       "      <td>0</td>\n",
       "      <td>0</td>\n",
       "      <td>3</td>\n",
       "      <td>11</td>\n",
       "      <td>0</td>\n",
       "    </tr>\n",
       "    <tr>\n",
       "      <th>4</th>\n",
       "      <td>5324</td>\n",
       "      <td>1981</td>\n",
       "      <td>PhD</td>\n",
       "      <td>Married</td>\n",
       "      <td>58293.0</td>\n",
       "      <td>1</td>\n",
       "      <td>0</td>\n",
       "      <td>19-01-2014</td>\n",
       "      <td>94</td>\n",
       "      <td>173</td>\n",
       "      <td>...</td>\n",
       "      <td>5</td>\n",
       "      <td>0</td>\n",
       "      <td>0</td>\n",
       "      <td>0</td>\n",
       "      <td>0</td>\n",
       "      <td>0</td>\n",
       "      <td>0</td>\n",
       "      <td>3</td>\n",
       "      <td>11</td>\n",
       "      <td>0</td>\n",
       "    </tr>\n",
       "  </tbody>\n",
       "</table>\n",
       "<p>5 rows × 29 columns</p>\n",
       "</div>"
      ],
      "text/plain": [
       "     ID  Year_Birth   Education Marital_Status   Income  Kidhome  Teenhome  \\\n",
       "0  5524        1957  Graduation         Single  58138.0        0         0   \n",
       "1  2174        1954  Graduation         Single  46344.0        1         1   \n",
       "2  4141        1965  Graduation       Together  71613.0        0         0   \n",
       "3  6182        1984  Graduation       Together  26646.0        1         0   \n",
       "4  5324        1981         PhD        Married  58293.0        1         0   \n",
       "\n",
       "  Dt_Customer  Recency  MntWines  ...  NumWebVisitsMonth  AcceptedCmp3  \\\n",
       "0  04-09-2012       58       635  ...                  7             0   \n",
       "1  08-03-2014       38        11  ...                  5             0   \n",
       "2  21-08-2013       26       426  ...                  4             0   \n",
       "3  10-02-2014       26        11  ...                  6             0   \n",
       "4  19-01-2014       94       173  ...                  5             0   \n",
       "\n",
       "   AcceptedCmp4  AcceptedCmp5  AcceptedCmp1  AcceptedCmp2  Complain  \\\n",
       "0             0             0             0             0         0   \n",
       "1             0             0             0             0         0   \n",
       "2             0             0             0             0         0   \n",
       "3             0             0             0             0         0   \n",
       "4             0             0             0             0         0   \n",
       "\n",
       "   Z_CostContact  Z_Revenue  Response  \n",
       "0              3         11         1  \n",
       "1              3         11         0  \n",
       "2              3         11         0  \n",
       "3              3         11         0  \n",
       "4              3         11         0  \n",
       "\n",
       "[5 rows x 29 columns]"
      ]
     },
     "execution_count": 2,
     "metadata": {},
     "output_type": "execute_result"
    }
   ],
   "source": [
    "df = pd.read_csv('../input/customer-personality-analysis/marketing_campaign.csv', sep='\\t')\n",
    "df.head()"
   ]
  },
  {
   "cell_type": "code",
   "execution_count": 3,
   "id": "b91147b6",
   "metadata": {
    "execution": {
     "iopub.execute_input": "2022-01-31T01:19:16.972149Z",
     "iopub.status.busy": "2022-01-31T01:19:16.971296Z",
     "iopub.status.idle": "2022-01-31T01:19:16.975509Z",
     "shell.execute_reply": "2022-01-31T01:19:16.974741Z",
     "shell.execute_reply.started": "2022-01-31T00:48:45.763336Z"
    },
    "papermill": {
     "duration": 0.052278,
     "end_time": "2022-01-31T01:19:16.975669",
     "exception": false,
     "start_time": "2022-01-31T01:19:16.923391",
     "status": "completed"
    },
    "tags": []
   },
   "outputs": [
    {
     "name": "stdout",
     "output_type": "stream",
     "text": [
      "<class 'pandas.core.frame.DataFrame'>\n",
      "RangeIndex: 2240 entries, 0 to 2239\n",
      "Data columns (total 29 columns):\n",
      " #   Column               Non-Null Count  Dtype  \n",
      "---  ------               --------------  -----  \n",
      " 0   ID                   2240 non-null   int64  \n",
      " 1   Year_Birth           2240 non-null   int64  \n",
      " 2   Education            2240 non-null   object \n",
      " 3   Marital_Status       2240 non-null   object \n",
      " 4   Income               2216 non-null   float64\n",
      " 5   Kidhome              2240 non-null   int64  \n",
      " 6   Teenhome             2240 non-null   int64  \n",
      " 7   Dt_Customer          2240 non-null   object \n",
      " 8   Recency              2240 non-null   int64  \n",
      " 9   MntWines             2240 non-null   int64  \n",
      " 10  MntFruits            2240 non-null   int64  \n",
      " 11  MntMeatProducts      2240 non-null   int64  \n",
      " 12  MntFishProducts      2240 non-null   int64  \n",
      " 13  MntSweetProducts     2240 non-null   int64  \n",
      " 14  MntGoldProds         2240 non-null   int64  \n",
      " 15  NumDealsPurchases    2240 non-null   int64  \n",
      " 16  NumWebPurchases      2240 non-null   int64  \n",
      " 17  NumCatalogPurchases  2240 non-null   int64  \n",
      " 18  NumStorePurchases    2240 non-null   int64  \n",
      " 19  NumWebVisitsMonth    2240 non-null   int64  \n",
      " 20  AcceptedCmp3         2240 non-null   int64  \n",
      " 21  AcceptedCmp4         2240 non-null   int64  \n",
      " 22  AcceptedCmp5         2240 non-null   int64  \n",
      " 23  AcceptedCmp1         2240 non-null   int64  \n",
      " 24  AcceptedCmp2         2240 non-null   int64  \n",
      " 25  Complain             2240 non-null   int64  \n",
      " 26  Z_CostContact        2240 non-null   int64  \n",
      " 27  Z_Revenue            2240 non-null   int64  \n",
      " 28  Response             2240 non-null   int64  \n",
      "dtypes: float64(1), int64(25), object(3)\n",
      "memory usage: 507.6+ KB\n"
     ]
    }
   ],
   "source": [
    "df.info()"
   ]
  },
  {
   "cell_type": "markdown",
   "id": "a39d4ded",
   "metadata": {
    "papermill": {
     "duration": 0.019001,
     "end_time": "2022-01-31T01:19:17.014577",
     "exception": false,
     "start_time": "2022-01-31T01:19:16.995576",
     "status": "completed"
    },
    "tags": []
   },
   "source": []
  },
  {
   "cell_type": "code",
   "execution_count": 4,
   "id": "641b5855",
   "metadata": {
    "execution": {
     "iopub.execute_input": "2022-01-31T01:19:17.069619Z",
     "iopub.status.busy": "2022-01-31T01:19:17.068853Z",
     "iopub.status.idle": "2022-01-31T01:19:17.073261Z",
     "shell.execute_reply": "2022-01-31T01:19:17.073950Z",
     "shell.execute_reply.started": "2022-01-31T00:48:45.778423Z"
    },
    "papermill": {
     "duration": 0.039772,
     "end_time": "2022-01-31T01:19:17.074168",
     "exception": false,
     "start_time": "2022-01-31T01:19:17.034396",
     "status": "completed"
    },
    "tags": []
   },
   "outputs": [
    {
     "data": {
      "text/html": [
       "<div>\n",
       "<style scoped>\n",
       "    .dataframe tbody tr th:only-of-type {\n",
       "        vertical-align: middle;\n",
       "    }\n",
       "\n",
       "    .dataframe tbody tr th {\n",
       "        vertical-align: top;\n",
       "    }\n",
       "\n",
       "    .dataframe thead th {\n",
       "        text-align: right;\n",
       "    }\n",
       "</style>\n",
       "<table border=\"1\" class=\"dataframe\">\n",
       "  <thead>\n",
       "    <tr style=\"text-align: right;\">\n",
       "      <th></th>\n",
       "      <th>ID</th>\n",
       "      <th>Recency</th>\n",
       "      <th>MntWines</th>\n",
       "      <th>MntFruits</th>\n",
       "      <th>MntMeatProducts</th>\n",
       "      <th>MntSweetProducts</th>\n",
       "      <th>MntFishProducts</th>\n",
       "      <th>MntGoldProds</th>\n",
       "      <th>NumWebPurchases</th>\n",
       "      <th>NumCatalogPurchases</th>\n",
       "      <th>NumStorePurchases</th>\n",
       "    </tr>\n",
       "  </thead>\n",
       "  <tbody>\n",
       "    <tr>\n",
       "      <th>0</th>\n",
       "      <td>5524</td>\n",
       "      <td>58</td>\n",
       "      <td>635</td>\n",
       "      <td>88</td>\n",
       "      <td>546</td>\n",
       "      <td>88</td>\n",
       "      <td>172</td>\n",
       "      <td>88</td>\n",
       "      <td>8</td>\n",
       "      <td>10</td>\n",
       "      <td>4</td>\n",
       "    </tr>\n",
       "    <tr>\n",
       "      <th>1</th>\n",
       "      <td>2174</td>\n",
       "      <td>38</td>\n",
       "      <td>11</td>\n",
       "      <td>1</td>\n",
       "      <td>6</td>\n",
       "      <td>1</td>\n",
       "      <td>2</td>\n",
       "      <td>6</td>\n",
       "      <td>1</td>\n",
       "      <td>1</td>\n",
       "      <td>2</td>\n",
       "    </tr>\n",
       "    <tr>\n",
       "      <th>2</th>\n",
       "      <td>4141</td>\n",
       "      <td>26</td>\n",
       "      <td>426</td>\n",
       "      <td>49</td>\n",
       "      <td>127</td>\n",
       "      <td>21</td>\n",
       "      <td>111</td>\n",
       "      <td>42</td>\n",
       "      <td>8</td>\n",
       "      <td>2</td>\n",
       "      <td>10</td>\n",
       "    </tr>\n",
       "    <tr>\n",
       "      <th>3</th>\n",
       "      <td>6182</td>\n",
       "      <td>26</td>\n",
       "      <td>11</td>\n",
       "      <td>4</td>\n",
       "      <td>20</td>\n",
       "      <td>3</td>\n",
       "      <td>10</td>\n",
       "      <td>5</td>\n",
       "      <td>2</td>\n",
       "      <td>0</td>\n",
       "      <td>4</td>\n",
       "    </tr>\n",
       "    <tr>\n",
       "      <th>4</th>\n",
       "      <td>5324</td>\n",
       "      <td>94</td>\n",
       "      <td>173</td>\n",
       "      <td>43</td>\n",
       "      <td>118</td>\n",
       "      <td>27</td>\n",
       "      <td>46</td>\n",
       "      <td>15</td>\n",
       "      <td>5</td>\n",
       "      <td>3</td>\n",
       "      <td>6</td>\n",
       "    </tr>\n",
       "  </tbody>\n",
       "</table>\n",
       "</div>"
      ],
      "text/plain": [
       "     ID  Recency  MntWines  MntFruits  MntMeatProducts  MntSweetProducts  \\\n",
       "0  5524       58       635         88              546                88   \n",
       "1  2174       38        11          1                6                 1   \n",
       "2  4141       26       426         49              127                21   \n",
       "3  6182       26        11          4               20                 3   \n",
       "4  5324       94       173         43              118                27   \n",
       "\n",
       "   MntFishProducts  MntGoldProds  NumWebPurchases  NumCatalogPurchases  \\\n",
       "0              172            88                8                   10   \n",
       "1                2             6                1                    1   \n",
       "2              111            42                8                    2   \n",
       "3               10             5                2                    0   \n",
       "4               46            15                5                    3   \n",
       "\n",
       "   NumStorePurchases  \n",
       "0                  4  \n",
       "1                  2  \n",
       "2                 10  \n",
       "3                  4  \n",
       "4                  6  "
      ]
     },
     "execution_count": 4,
     "metadata": {},
     "output_type": "execute_result"
    }
   ],
   "source": [
    "df=df[['ID','Recency','MntWines','MntFruits','MntMeatProducts',\n",
    "       'MntSweetProducts','MntFishProducts','MntGoldProds',\n",
    "       'NumWebPurchases','NumCatalogPurchases','NumStorePurchases']]\n",
    "df.head()"
   ]
  },
  {
   "cell_type": "code",
   "execution_count": 5,
   "id": "3ecf122f",
   "metadata": {
    "execution": {
     "iopub.execute_input": "2022-01-31T01:19:17.122919Z",
     "iopub.status.busy": "2022-01-31T01:19:17.119006Z",
     "iopub.status.idle": "2022-01-31T01:19:17.125415Z",
     "shell.execute_reply": "2022-01-31T01:19:17.125941Z",
     "shell.execute_reply.started": "2022-01-31T00:48:45.791433Z"
    },
    "papermill": {
     "duration": 0.029806,
     "end_time": "2022-01-31T01:19:17.126139",
     "exception": false,
     "start_time": "2022-01-31T01:19:17.096333",
     "status": "completed"
    },
    "tags": []
   },
   "outputs": [],
   "source": [
    "#somando o número de compras em diferentes situações para encontrar a Frequência\n",
    "df['Frequency'] = (df['NumWebPurchases'] + df['NumCatalogPurchases'] + \n",
    "                           df['NumStorePurchases'])"
   ]
  },
  {
   "cell_type": "code",
   "execution_count": 6,
   "id": "114dc05c",
   "metadata": {
    "execution": {
     "iopub.execute_input": "2022-01-31T01:19:17.167041Z",
     "iopub.status.busy": "2022-01-31T01:19:17.166048Z",
     "iopub.status.idle": "2022-01-31T01:19:17.173451Z",
     "shell.execute_reply": "2022-01-31T01:19:17.173988Z",
     "shell.execute_reply.started": "2022-01-31T00:48:45.803214Z"
    },
    "papermill": {
     "duration": 0.029844,
     "end_time": "2022-01-31T01:19:17.174188",
     "exception": false,
     "start_time": "2022-01-31T01:19:17.144344",
     "status": "completed"
    },
    "tags": []
   },
   "outputs": [],
   "source": [
    "#somando todos os gastos em uma só coluna para encontrar o valor monetário\n",
    "df['MonetaryValue'] = (df['MntWines'] + df['MntFruits'] + df['MntMeatProducts'] \n",
    "                       + df['MntFishProducts'] + df['MntSweetProducts'] \n",
    "                       + df['MntGoldProds'])"
   ]
  },
  {
   "cell_type": "code",
   "execution_count": 7,
   "id": "965c3e35",
   "metadata": {
    "execution": {
     "iopub.execute_input": "2022-01-31T01:19:17.219387Z",
     "iopub.status.busy": "2022-01-31T01:19:17.218707Z",
     "iopub.status.idle": "2022-01-31T01:19:17.232620Z",
     "shell.execute_reply": "2022-01-31T01:19:17.233407Z",
     "shell.execute_reply.started": "2022-01-31T00:49:16.256859Z"
    },
    "papermill": {
     "duration": 0.038615,
     "end_time": "2022-01-31T01:19:17.233697",
     "exception": false,
     "start_time": "2022-01-31T01:19:17.195082",
     "status": "completed"
    },
    "tags": []
   },
   "outputs": [
    {
     "data": {
      "text/html": [
       "<div>\n",
       "<style scoped>\n",
       "    .dataframe tbody tr th:only-of-type {\n",
       "        vertical-align: middle;\n",
       "    }\n",
       "\n",
       "    .dataframe tbody tr th {\n",
       "        vertical-align: top;\n",
       "    }\n",
       "\n",
       "    .dataframe thead th {\n",
       "        text-align: right;\n",
       "    }\n",
       "</style>\n",
       "<table border=\"1\" class=\"dataframe\">\n",
       "  <thead>\n",
       "    <tr style=\"text-align: right;\">\n",
       "      <th></th>\n",
       "      <th>ID</th>\n",
       "      <th>Recency</th>\n",
       "      <th>Frequency</th>\n",
       "      <th>MonetaryValue</th>\n",
       "    </tr>\n",
       "  </thead>\n",
       "  <tbody>\n",
       "    <tr>\n",
       "      <th>0</th>\n",
       "      <td>5524</td>\n",
       "      <td>58</td>\n",
       "      <td>22</td>\n",
       "      <td>1617</td>\n",
       "    </tr>\n",
       "    <tr>\n",
       "      <th>1</th>\n",
       "      <td>2174</td>\n",
       "      <td>38</td>\n",
       "      <td>4</td>\n",
       "      <td>27</td>\n",
       "    </tr>\n",
       "    <tr>\n",
       "      <th>2</th>\n",
       "      <td>4141</td>\n",
       "      <td>26</td>\n",
       "      <td>20</td>\n",
       "      <td>776</td>\n",
       "    </tr>\n",
       "    <tr>\n",
       "      <th>3</th>\n",
       "      <td>6182</td>\n",
       "      <td>26</td>\n",
       "      <td>6</td>\n",
       "      <td>53</td>\n",
       "    </tr>\n",
       "    <tr>\n",
       "      <th>4</th>\n",
       "      <td>5324</td>\n",
       "      <td>94</td>\n",
       "      <td>14</td>\n",
       "      <td>422</td>\n",
       "    </tr>\n",
       "    <tr>\n",
       "      <th>...</th>\n",
       "      <td>...</td>\n",
       "      <td>...</td>\n",
       "      <td>...</td>\n",
       "      <td>...</td>\n",
       "    </tr>\n",
       "    <tr>\n",
       "      <th>2235</th>\n",
       "      <td>10870</td>\n",
       "      <td>46</td>\n",
       "      <td>16</td>\n",
       "      <td>1341</td>\n",
       "    </tr>\n",
       "    <tr>\n",
       "      <th>2236</th>\n",
       "      <td>4001</td>\n",
       "      <td>56</td>\n",
       "      <td>15</td>\n",
       "      <td>444</td>\n",
       "    </tr>\n",
       "    <tr>\n",
       "      <th>2237</th>\n",
       "      <td>7270</td>\n",
       "      <td>91</td>\n",
       "      <td>18</td>\n",
       "      <td>1241</td>\n",
       "    </tr>\n",
       "    <tr>\n",
       "      <th>2238</th>\n",
       "      <td>8235</td>\n",
       "      <td>8</td>\n",
       "      <td>21</td>\n",
       "      <td>843</td>\n",
       "    </tr>\n",
       "    <tr>\n",
       "      <th>2239</th>\n",
       "      <td>9405</td>\n",
       "      <td>40</td>\n",
       "      <td>8</td>\n",
       "      <td>172</td>\n",
       "    </tr>\n",
       "  </tbody>\n",
       "</table>\n",
       "<p>2240 rows × 4 columns</p>\n",
       "</div>"
      ],
      "text/plain": [
       "         ID  Recency  Frequency  MonetaryValue\n",
       "0      5524       58         22           1617\n",
       "1      2174       38          4             27\n",
       "2      4141       26         20            776\n",
       "3      6182       26          6             53\n",
       "4      5324       94         14            422\n",
       "...     ...      ...        ...            ...\n",
       "2235  10870       46         16           1341\n",
       "2236   4001       56         15            444\n",
       "2237   7270       91         18           1241\n",
       "2238   8235        8         21            843\n",
       "2239   9405       40          8            172\n",
       "\n",
       "[2240 rows x 4 columns]"
      ]
     },
     "execution_count": 7,
     "metadata": {},
     "output_type": "execute_result"
    }
   ],
   "source": [
    "RFM = df[['ID', 'Recency', 'Frequency', 'MonetaryValue']]\n",
    "RFM"
   ]
  },
  {
   "cell_type": "code",
   "execution_count": 8,
   "id": "93d4e350",
   "metadata": {
    "execution": {
     "iopub.execute_input": "2022-01-31T01:19:17.277121Z",
     "iopub.status.busy": "2022-01-31T01:19:17.276462Z",
     "iopub.status.idle": "2022-01-31T01:19:17.595730Z",
     "shell.execute_reply": "2022-01-31T01:19:17.596373Z",
     "shell.execute_reply.started": "2022-01-31T00:49:24.009749Z"
    },
    "papermill": {
     "duration": 0.342033,
     "end_time": "2022-01-31T01:19:17.596591",
     "exception": false,
     "start_time": "2022-01-31T01:19:17.254558",
     "status": "completed"
    },
    "tags": []
   },
   "outputs": [
    {
     "data": {
      "text/plain": [
       "<AxesSubplot:xlabel='Recency', ylabel='Density'>"
      ]
     },
     "execution_count": 8,
     "metadata": {},
     "output_type": "execute_result"
    },
    {
     "data": {
      "image/png": "[encoded data removed]",
      "text/plain": [
       "<Figure size 432x288 with 1 Axes>"
      ]
     },
     "metadata": {
      "needs_background": "light"
     },
     "output_type": "display_data"
    }
   ],
   "source": [
    "sns.distplot(RFM['Recency'])"
   ]
  },
  {
   "cell_type": "code",
   "execution_count": 9,
   "id": "3ae00fa7",
   "metadata": {
    "execution": {
     "iopub.execute_input": "2022-01-31T01:19:17.641219Z",
     "iopub.status.busy": "2022-01-31T01:19:17.640523Z",
     "iopub.status.idle": "2022-01-31T01:19:17.886114Z",
     "shell.execute_reply": "2022-01-31T01:19:17.886626Z",
     "shell.execute_reply.started": "2022-01-31T00:49:31.609606Z"
    },
    "papermill": {
     "duration": 0.269644,
     "end_time": "2022-01-31T01:19:17.886843",
     "exception": false,
     "start_time": "2022-01-31T01:19:17.617199",
     "status": "completed"
    },
    "tags": []
   },
   "outputs": [
    {
     "data": {
      "text/plain": [
       "<AxesSubplot:xlabel='Frequency', ylabel='Density'>"
      ]
     },
     "execution_count": 9,
     "metadata": {},
     "output_type": "execute_result"
    },
    {
     "data": {
      "image/png": "[encoded data removed]",
      "text/plain": [
       "<Figure size 432x288 with 1 Axes>"
      ]
     },
     "metadata": {
      "needs_background": "light"
     },
     "output_type": "display_data"
    }
   ],
   "source": [
    "sns.distplot(RFM['Frequency'])"
   ]
  },
  {
   "cell_type": "code",
   "execution_count": 10,
   "id": "d8e5fc19",
   "metadata": {
    "execution": {
     "iopub.execute_input": "2022-01-31T01:19:17.953476Z",
     "iopub.status.busy": "2022-01-31T01:19:17.948956Z",
     "iopub.status.idle": "2022-01-31T01:19:18.201893Z",
     "shell.execute_reply": "2022-01-31T01:19:18.201301Z",
     "shell.execute_reply.started": "2022-01-31T00:49:47.777368Z"
    },
    "papermill": {
     "duration": 0.293886,
     "end_time": "2022-01-31T01:19:18.202051",
     "exception": false,
     "start_time": "2022-01-31T01:19:17.908165",
     "status": "completed"
    },
    "tags": []
   },
   "outputs": [
    {
     "data": {
      "text/plain": [
       "<AxesSubplot:xlabel='MonetaryValue', ylabel='Density'>"
      ]
     },
     "execution_count": 10,
     "metadata": {},
     "output_type": "execute_result"
    },
    {
     "data": {
      "image/png": "[encoded data removed]",
      "text/plain": [
       "<Figure size 432x288 with 1 Axes>"
      ]
     },
     "metadata": {
      "needs_background": "light"
     },
     "output_type": "display_data"
    }
   ],
   "source": [
    "sns.distplot(RFM['MonetaryValue'])"
   ]
  },
  {
   "cell_type": "code",
   "execution_count": 11,
   "id": "596a9fb3",
   "metadata": {
    "execution": {
     "iopub.execute_input": "2022-01-31T01:19:18.255746Z",
     "iopub.status.busy": "2022-01-31T01:19:18.254650Z",
     "iopub.status.idle": "2022-01-31T01:19:18.280465Z",
     "shell.execute_reply": "2022-01-31T01:19:18.279675Z",
     "shell.execute_reply.started": "2022-01-31T00:49:51.415458Z"
    },
    "papermill": {
     "duration": 0.056593,
     "end_time": "2022-01-31T01:19:18.280637",
     "exception": false,
     "start_time": "2022-01-31T01:19:18.224044",
     "status": "completed"
    },
    "tags": []
   },
   "outputs": [
    {
     "data": {
      "text/html": [
       "<div>\n",
       "<style scoped>\n",
       "    .dataframe tbody tr th:only-of-type {\n",
       "        vertical-align: middle;\n",
       "    }\n",
       "\n",
       "    .dataframe tbody tr th {\n",
       "        vertical-align: top;\n",
       "    }\n",
       "\n",
       "    .dataframe thead th {\n",
       "        text-align: right;\n",
       "    }\n",
       "</style>\n",
       "<table border=\"1\" class=\"dataframe\">\n",
       "  <thead>\n",
       "    <tr style=\"text-align: right;\">\n",
       "      <th></th>\n",
       "      <th>ID</th>\n",
       "      <th>Recency</th>\n",
       "      <th>Frequency</th>\n",
       "      <th>MonetaryValue</th>\n",
       "      <th>R</th>\n",
       "      <th>F</th>\n",
       "      <th>M</th>\n",
       "    </tr>\n",
       "  </thead>\n",
       "  <tbody>\n",
       "    <tr>\n",
       "      <th>0</th>\n",
       "      <td>5524</td>\n",
       "      <td>58</td>\n",
       "      <td>22</td>\n",
       "      <td>1617</td>\n",
       "      <td>3</td>\n",
       "      <td>5</td>\n",
       "      <td>5</td>\n",
       "    </tr>\n",
       "    <tr>\n",
       "      <th>1</th>\n",
       "      <td>2174</td>\n",
       "      <td>38</td>\n",
       "      <td>4</td>\n",
       "      <td>27</td>\n",
       "      <td>4</td>\n",
       "      <td>1</td>\n",
       "      <td>1</td>\n",
       "    </tr>\n",
       "    <tr>\n",
       "      <th>2</th>\n",
       "      <td>4141</td>\n",
       "      <td>26</td>\n",
       "      <td>20</td>\n",
       "      <td>776</td>\n",
       "      <td>4</td>\n",
       "      <td>4</td>\n",
       "      <td>4</td>\n",
       "    </tr>\n",
       "    <tr>\n",
       "      <th>3</th>\n",
       "      <td>6182</td>\n",
       "      <td>26</td>\n",
       "      <td>6</td>\n",
       "      <td>53</td>\n",
       "      <td>4</td>\n",
       "      <td>2</td>\n",
       "      <td>1</td>\n",
       "    </tr>\n",
       "    <tr>\n",
       "      <th>4</th>\n",
       "      <td>5324</td>\n",
       "      <td>94</td>\n",
       "      <td>14</td>\n",
       "      <td>422</td>\n",
       "      <td>1</td>\n",
       "      <td>3</td>\n",
       "      <td>3</td>\n",
       "    </tr>\n",
       "    <tr>\n",
       "      <th>...</th>\n",
       "      <td>...</td>\n",
       "      <td>...</td>\n",
       "      <td>...</td>\n",
       "      <td>...</td>\n",
       "      <td>...</td>\n",
       "      <td>...</td>\n",
       "      <td>...</td>\n",
       "    </tr>\n",
       "    <tr>\n",
       "      <th>2235</th>\n",
       "      <td>10870</td>\n",
       "      <td>46</td>\n",
       "      <td>16</td>\n",
       "      <td>1341</td>\n",
       "      <td>3</td>\n",
       "      <td>4</td>\n",
       "      <td>5</td>\n",
       "    </tr>\n",
       "    <tr>\n",
       "      <th>2236</th>\n",
       "      <td>4001</td>\n",
       "      <td>56</td>\n",
       "      <td>15</td>\n",
       "      <td>444</td>\n",
       "      <td>3</td>\n",
       "      <td>3</td>\n",
       "      <td>3</td>\n",
       "    </tr>\n",
       "    <tr>\n",
       "      <th>2237</th>\n",
       "      <td>7270</td>\n",
       "      <td>91</td>\n",
       "      <td>18</td>\n",
       "      <td>1241</td>\n",
       "      <td>1</td>\n",
       "      <td>4</td>\n",
       "      <td>5</td>\n",
       "    </tr>\n",
       "    <tr>\n",
       "      <th>2238</th>\n",
       "      <td>8235</td>\n",
       "      <td>8</td>\n",
       "      <td>21</td>\n",
       "      <td>843</td>\n",
       "      <td>5</td>\n",
       "      <td>5</td>\n",
       "      <td>4</td>\n",
       "    </tr>\n",
       "    <tr>\n",
       "      <th>2239</th>\n",
       "      <td>9405</td>\n",
       "      <td>40</td>\n",
       "      <td>8</td>\n",
       "      <td>172</td>\n",
       "      <td>3</td>\n",
       "      <td>2</td>\n",
       "      <td>2</td>\n",
       "    </tr>\n",
       "  </tbody>\n",
       "</table>\n",
       "<p>2240 rows × 7 columns</p>\n",
       "</div>"
      ],
      "text/plain": [
       "         ID  Recency  Frequency  MonetaryValue  R  F  M\n",
       "0      5524       58         22           1617  3  5  5\n",
       "1      2174       38          4             27  4  1  1\n",
       "2      4141       26         20            776  4  4  4\n",
       "3      6182       26          6             53  4  2  1\n",
       "4      5324       94         14            422  1  3  3\n",
       "...     ...      ...        ...            ... .. .. ..\n",
       "2235  10870       46         16           1341  3  4  5\n",
       "2236   4001       56         15            444  3  3  3\n",
       "2237   7270       91         18           1241  1  4  5\n",
       "2238   8235        8         21            843  5  5  4\n",
       "2239   9405       40          8            172  3  2  2\n",
       "\n",
       "[2240 rows x 7 columns]"
      ]
     },
     "execution_count": 11,
     "metadata": {},
     "output_type": "execute_result"
    }
   ],
   "source": [
    "#Criando os rotulos\n",
    "r_labels = range(5, 0, -1)\n",
    "f_labels = range(1,6)\n",
    "m_labels = range(1,6)\n",
    "\n",
    "#Separando os dados \n",
    "r_quartiles = pd.qcut(RFM['Recency'], 5, labels=r_labels)\n",
    "f_quartiles = pd.qcut(RFM['Frequency'], q=5, labels=f_labels)\n",
    "m_quartiles = pd.qcut(RFM['MonetaryValue'], q=5, labels=m_labels)\n",
    "\n",
    "#Atribuindo os novos rotulos\n",
    "RFM = RFM.assign(R = r_quartiles, F=f_quartiles.values, M=m_quartiles.values)\n",
    "RFM"
   ]
  },
  {
   "cell_type": "code",
   "execution_count": 12,
   "id": "6e2cc40a",
   "metadata": {
    "execution": {
     "iopub.execute_input": "2022-01-31T01:19:18.338201Z",
     "iopub.status.busy": "2022-01-31T01:19:18.335999Z",
     "iopub.status.idle": "2022-01-31T01:19:18.688641Z",
     "shell.execute_reply": "2022-01-31T01:19:18.688063Z",
     "shell.execute_reply.started": "2022-01-31T00:50:06.299866Z"
    },
    "papermill": {
     "duration": 0.384881,
     "end_time": "2022-01-31T01:19:18.688825",
     "exception": false,
     "start_time": "2022-01-31T01:19:18.303944",
     "status": "completed"
    },
    "tags": []
   },
   "outputs": [
    {
     "data": {
      "image/png": "[encoded data removed]",
      "text/plain": [
       "<Figure size 1080x576 with 2 Axes>"
      ]
     },
     "metadata": {
      "needs_background": "light"
     },
     "output_type": "display_data"
    }
   ],
   "source": [
    "#Média de F+M\n",
    "RFM['FM_mean'] = round( ( (RFM[ ['F','M'] ].sum(axis=1) ) / 2 ), 0 )\n",
    "\n",
    "#Pivotando a tabela\n",
    "RFMpivot = RFM.pivot_table(values='ID', index='FM_mean', columns='R', aggfunc='count')\n",
    "RFMpivot = RFMpivot.loc[[5,4,3,2,1],[1,2,3,4,5]]\n",
    "\n",
    "#Visualizando em um mapa de calor\n",
    "plt.figure(figsize=(15,8))\n",
    "plot = sns.heatmap(RFMpivot, annot=True, fmt='d', linewidths=10, \n",
    "            cmap='Oranges', annot_kws={\"fontsize\":20})\n",
    "plot.set_xlabel('Recência', fontsize=16)\n",
    "plot.set_ylabel('Frequência e Valor Monetário (média)', fontsize=16)\n",
    "plt.show()"
   ]
  },
  {
   "cell_type": "code",
   "execution_count": 13,
   "id": "3d91aab5",
   "metadata": {
    "execution": {
     "iopub.execute_input": "2022-01-31T01:19:18.755129Z",
     "iopub.status.busy": "2022-01-31T01:19:18.754332Z",
     "iopub.status.idle": "2022-01-31T01:19:18.966600Z",
     "shell.execute_reply": "2022-01-31T01:19:18.967129Z",
     "shell.execute_reply.started": "2022-01-31T00:50:34.772293Z"
    },
    "papermill": {
     "duration": 0.251728,
     "end_time": "2022-01-31T01:19:18.967341",
     "exception": false,
     "start_time": "2022-01-31T01:19:18.715613",
     "status": "completed"
    },
    "tags": []
   },
   "outputs": [
    {
     "data": {
      "text/plain": [
       "Classe\n",
       "Clientes leais         565\n",
       "Em risco               471\n",
       "Lealdade potêncial     348\n",
       "Perdidos               269\n",
       "Prestes a hibernar     191\n",
       "Hibernando              97\n",
       "Promissor               90\n",
       "Recentes                79\n",
       "Precisam de atenção     58\n",
       "Não posso perde-los     47\n",
       "Campeões                25\n",
       "dtype: int64"
      ]
     },
     "execution_count": 13,
     "metadata": {},
     "output_type": "execute_result"
    }
   ],
   "source": [
    "#Vamos descobrir agora a quem se pertence a cada grupo\n",
    "\n",
    "RFM['R'] = RFM['R'].astype('int64')\n",
    "RFM['FM_mean'] = RFM['FM_mean'].astype('int64')\n",
    "\n",
    "#Irei atribuir os mesmos rótulos da imagem\n",
    "def classificar(df):\n",
    "    if (df['FM_mean'] == 5) and (df['R'] == 1):\n",
    "      return 'Não posso perde-los'\n",
    "    elif (df['FM_mean'] == 5) and (df['R'] == 2):\n",
    "      return 'Em risco'\n",
    "    elif (df['FM_mean'] == 4) and (df['R'] == 1):\n",
    "      return 'Em risco'\n",
    "    elif (df['FM_mean'] == 4) and (df['R'] == 2):\n",
    "      return 'Em risco'\n",
    "    elif (df['FM_mean'] == 3) and (df['R'] == 1):\n",
    "      return 'Em risco'\n",
    "    elif (df['FM_mean'] == 3) and (df['R'] == 2):\n",
    "      return 'Em risco'\n",
    "    elif (df['FM_mean'] == 5) and (df['R'] == 3):\n",
    "      return 'Clientes leais'\n",
    "    elif (df['FM_mean'] == 5) and (df['R'] == 4):\n",
    "      return 'Clientes leais'\n",
    "    elif (df['FM_mean'] == 4) and (df['R'] == 3):\n",
    "      return 'Clientes leais'\n",
    "    elif (df['FM_mean'] == 4) and (df['R'] == 4):\n",
    "      return 'Clientes leais'\n",
    "    elif (df['FM_mean'] == 4) and (df['R'] == 5):\n",
    "      return 'Clientes leais'\n",
    "    elif (df['FM_mean'] == 5) and (df['R'] == 5):\n",
    "      return 'Campeões'\n",
    "    elif (df['FM_mean'] == 3) and (df['R'] == 3):\n",
    "      return 'Precisam de atenção'\n",
    "    elif (df['FM_mean'] == 3) and (df['R'] >= 4):\n",
    "      return 'Lealdade potêncial'\n",
    "    elif (df['FM_mean'] == 2) and (df['R'] >= 4):\n",
    "      return 'Lealdade potêncial'\n",
    "    elif (df['FM_mean'] == 1) and (df['R'] <= 2):\n",
    "      return 'Perdidos'\n",
    "    elif (df['FM_mean'] == 2) and (df['R'] == 1):\n",
    "      return 'Perdidos'\n",
    "    elif (df['FM_mean'] == 2) and (df['R'] == 2):\n",
    "      return 'Hibernando'\n",
    "    elif (df['FM_mean'] <= 2) and (df['R'] == 3):\n",
    "      return 'Prestes a hibernar'\n",
    "    elif (df['FM_mean'] == 1) and (df['R'] == 4):\n",
    "      return 'Promissor'\n",
    "    else:\n",
    "      return 'Recentes'\n",
    "\n",
    "RFM['Classe'] = RFM.apply(classificar,axis=1)\n",
    "RFM.value_counts('Classe')"
   ]
  },
  {
   "cell_type": "code",
   "execution_count": 14,
   "id": "d896e899",
   "metadata": {
    "execution": {
     "iopub.execute_input": "2022-01-31T01:19:19.021381Z",
     "iopub.status.busy": "2022-01-31T01:19:19.020688Z",
     "iopub.status.idle": "2022-01-31T01:19:19.319225Z",
     "shell.execute_reply": "2022-01-31T01:19:19.319699Z",
     "shell.execute_reply.started": "2022-01-31T00:51:26.103352Z"
    },
    "papermill": {
     "duration": 0.327738,
     "end_time": "2022-01-31T01:19:19.319972",
     "exception": false,
     "start_time": "2022-01-31T01:19:18.992234",
     "status": "completed"
    },
    "tags": []
   },
   "outputs": [
    {
     "data": {
      "text/plain": [
       "Text(0.5, 0, 'Classes')"
      ]
     },
     "execution_count": 14,
     "metadata": {},
     "output_type": "execute_result"
    },
    {
     "data": {
      "image/png": "[encoded data removed]",
      "text/plain": [
       "<Figure size 1440x720 with 1 Axes>"
      ]
     },
     "metadata": {
      "needs_background": "light"
     },
     "output_type": "display_data"
    }
   ],
   "source": [
    "ord_rfm = RFM.groupby('Classe').agg('count').sort_values(by='ID',\n",
    "                                                         ascending=False).index\n",
    "plt.figure(figsize=(20,10))\n",
    "ax = sns.countplot(x=RFM[\"Classe\"], data=RFM, label=ord_rfm, order=ord_rfm)\n",
    "plt.ylabel(\"Número de Clientes\", fontsize=13)\n",
    "plt.xlabel(\"Classes\", fontsize=13)"
   ]
  },
  {
   "cell_type": "code",
   "execution_count": null,
   "id": "ce22366e",
   "metadata": {
    "papermill": {
     "duration": 0.025712,
     "end_time": "2022-01-31T01:19:19.372990",
     "exception": false,
     "start_time": "2022-01-31T01:19:19.347278",
     "status": "completed"
    },
    "tags": []
   },
   "outputs": [],
   "source": []
  }
 ],
 "metadata": {
  "kernelspec": {
   "display_name": "Python 3",
   "language": "python",
   "name": "python3"
  },
  "language_info": {
   "codemirror_mode": {
    "name": "ipython",
    "version": 3
   },
   "file_extension": ".py",
   "mimetype": "text/x-python",
   "name": "python",
   "nbconvert_exporter": "python",
   "pygments_lexer": "ipython3",
   "version": "3.7.12"
  },
  "papermill": {
   "default_parameters": {},
   "duration": 15.017864,
   "end_time": "2022-01-31T01:19:20.111186",
   "environment_variables": {},
   "exception": null,
   "input_path": "__notebook__.ipynb",
   "output_path": "__notebook__.ipynb",
   "parameters": {},
   "start_time": "2022-01-31T01:19:05.093322",
   "version": "2.3.3"
  }
 },
 "nbformat": 4,
 "nbformat_minor": 5
}
